{
 "cells": [
  {
   "cell_type": "code",
   "execution_count": 1,
   "metadata": {},
   "outputs": [
    {
     "data": {
      "text/html": [
       "<div>\n",
       "<style scoped>\n",
       "    .dataframe tbody tr th:only-of-type {\n",
       "        vertical-align: middle;\n",
       "    }\n",
       "\n",
       "    .dataframe tbody tr th {\n",
       "        vertical-align: top;\n",
       "    }\n",
       "\n",
       "    .dataframe thead th {\n",
       "        text-align: right;\n",
       "    }\n",
       "</style>\n",
       "<table border=\"1\" class=\"dataframe\">\n",
       "  <thead>\n",
       "    <tr style=\"text-align: right;\">\n",
       "      <th></th>\n",
       "      <th>City_ID</th>\n",
       "      <th>City</th>\n",
       "      <th>Country</th>\n",
       "      <th>Max Temp</th>\n",
       "      <th>Current Description</th>\n",
       "      <th>Lat</th>\n",
       "      <th>Lng</th>\n",
       "      <th>Hotel Name</th>\n",
       "    </tr>\n",
       "  </thead>\n",
       "  <tbody>\n",
       "    <tr>\n",
       "      <th>0</th>\n",
       "      <td>0</td>\n",
       "      <td>Pocone</td>\n",
       "      <td>BR</td>\n",
       "      <td>68.25</td>\n",
       "      <td>clear sky</td>\n",
       "      <td>-16.26</td>\n",
       "      <td>-56.62</td>\n",
       "      <td>Hotel e Churrascaria Pantaneira</td>\n",
       "    </tr>\n",
       "    <tr>\n",
       "      <th>1</th>\n",
       "      <td>6</td>\n",
       "      <td>Quelimane</td>\n",
       "      <td>MZ</td>\n",
       "      <td>66.20</td>\n",
       "      <td>clear sky</td>\n",
       "      <td>-17.88</td>\n",
       "      <td>36.89</td>\n",
       "      <td>Hotel Flamingo</td>\n",
       "    </tr>\n",
       "    <tr>\n",
       "      <th>2</th>\n",
       "      <td>10</td>\n",
       "      <td>Bambous Virieux</td>\n",
       "      <td>MU</td>\n",
       "      <td>71.60</td>\n",
       "      <td>shower rain</td>\n",
       "      <td>-20.34</td>\n",
       "      <td>57.76</td>\n",
       "      <td>Casa Tia Villa</td>\n",
       "    </tr>\n",
       "    <tr>\n",
       "      <th>3</th>\n",
       "      <td>16</td>\n",
       "      <td>Quatre Cocos</td>\n",
       "      <td>MU</td>\n",
       "      <td>71.60</td>\n",
       "      <td>shower rain</td>\n",
       "      <td>-20.21</td>\n",
       "      <td>57.76</td>\n",
       "      <td>Veranda Palmar Beach Hotel</td>\n",
       "    </tr>\n",
       "    <tr>\n",
       "      <th>4</th>\n",
       "      <td>31</td>\n",
       "      <td>La Ronge</td>\n",
       "      <td>CA</td>\n",
       "      <td>69.80</td>\n",
       "      <td>overcast clouds</td>\n",
       "      <td>55.10</td>\n",
       "      <td>-105.28</td>\n",
       "      <td>Northland Motor Hotel</td>\n",
       "    </tr>\n",
       "    <tr>\n",
       "      <th>...</th>\n",
       "      <td>...</td>\n",
       "      <td>...</td>\n",
       "      <td>...</td>\n",
       "      <td>...</td>\n",
       "      <td>...</td>\n",
       "      <td>...</td>\n",
       "      <td>...</td>\n",
       "      <td>...</td>\n",
       "    </tr>\n",
       "    <tr>\n",
       "      <th>102</th>\n",
       "      <td>521</td>\n",
       "      <td>Gamba</td>\n",
       "      <td>GA</td>\n",
       "      <td>69.96</td>\n",
       "      <td>scattered clouds</td>\n",
       "      <td>-2.65</td>\n",
       "      <td>10.00</td>\n",
       "      <td>NaN</td>\n",
       "    </tr>\n",
       "    <tr>\n",
       "      <th>103</th>\n",
       "      <td>522</td>\n",
       "      <td>Maragogi</td>\n",
       "      <td>BR</td>\n",
       "      <td>74.37</td>\n",
       "      <td>overcast clouds</td>\n",
       "      <td>-9.01</td>\n",
       "      <td>-35.22</td>\n",
       "      <td>Salinas do Maragogi All Inclusive Resort</td>\n",
       "    </tr>\n",
       "    <tr>\n",
       "      <th>104</th>\n",
       "      <td>529</td>\n",
       "      <td>Touros</td>\n",
       "      <td>BR</td>\n",
       "      <td>73.40</td>\n",
       "      <td>broken clouds</td>\n",
       "      <td>-5.20</td>\n",
       "      <td>-35.46</td>\n",
       "      <td>INN NEW HORIZON</td>\n",
       "    </tr>\n",
       "    <tr>\n",
       "      <th>105</th>\n",
       "      <td>541</td>\n",
       "      <td>Cabedelo</td>\n",
       "      <td>BR</td>\n",
       "      <td>73.40</td>\n",
       "      <td>broken clouds</td>\n",
       "      <td>-6.98</td>\n",
       "      <td>-34.83</td>\n",
       "      <td>Lua Mansa Pousada</td>\n",
       "    </tr>\n",
       "    <tr>\n",
       "      <th>106</th>\n",
       "      <td>545</td>\n",
       "      <td>Altay</td>\n",
       "      <td>CN</td>\n",
       "      <td>74.88</td>\n",
       "      <td>clear sky</td>\n",
       "      <td>47.87</td>\n",
       "      <td>88.12</td>\n",
       "      <td>Jinqiao Hotel</td>\n",
       "    </tr>\n",
       "  </tbody>\n",
       "</table>\n",
       "<p>107 rows × 8 columns</p>\n",
       "</div>"
      ],
      "text/plain": [
       "     City_ID             City Country  Max Temp Current Description    Lat  \\\n",
       "0          0           Pocone      BR     68.25           clear sky -16.26   \n",
       "1          6        Quelimane      MZ     66.20           clear sky -17.88   \n",
       "2         10  Bambous Virieux      MU     71.60         shower rain -20.34   \n",
       "3         16     Quatre Cocos      MU     71.60         shower rain -20.21   \n",
       "4         31         La Ronge      CA     69.80     overcast clouds  55.10   \n",
       "..       ...              ...     ...       ...                 ...    ...   \n",
       "102      521            Gamba      GA     69.96    scattered clouds  -2.65   \n",
       "103      522         Maragogi      BR     74.37     overcast clouds  -9.01   \n",
       "104      529           Touros      BR     73.40       broken clouds  -5.20   \n",
       "105      541         Cabedelo      BR     73.40       broken clouds  -6.98   \n",
       "106      545            Altay      CN     74.88           clear sky  47.87   \n",
       "\n",
       "        Lng                                Hotel Name  \n",
       "0    -56.62           Hotel e Churrascaria Pantaneira  \n",
       "1     36.89                            Hotel Flamingo  \n",
       "2     57.76                            Casa Tia Villa  \n",
       "3     57.76                Veranda Palmar Beach Hotel  \n",
       "4   -105.28                     Northland Motor Hotel  \n",
       "..      ...                                       ...  \n",
       "102   10.00                                       NaN  \n",
       "103  -35.22  Salinas do Maragogi All Inclusive Resort  \n",
       "104  -35.46                           INN NEW HORIZON  \n",
       "105  -34.83                         Lua Mansa Pousada  \n",
       "106   88.12                             Jinqiao Hotel  \n",
       "\n",
       "[107 rows x 8 columns]"
      ]
     },
     "execution_count": 1,
     "metadata": {},
     "output_type": "execute_result"
    }
   ],
   "source": [
    "# Import the dependencies.\n",
    "import pandas as pd\n",
    "import matplotlib.pyplot as plt\n",
    "import numpy as np\n",
    "import requests\n",
    "import gmaps\n",
    "\n",
    "# Import linear regression from the SciPy stats module.\n",
    "from scipy.stats import linregress\n",
    "\n",
    "# Import the API key.\n",
    "from config import weather_api_key\n",
    "from config import gkey\n",
    "\n",
    "# Load in csv\n",
    "WeatherPy_vacation_df = pd.read_csv(\"weather_data/WeatherPy_vacation.csv\")\n",
    "WeatherPy_vacation_df"
   ]
  },
  {
   "cell_type": "code",
   "execution_count": 2,
   "metadata": {},
   "outputs": [
    {
     "name": "stdout",
     "output_type": "stream",
     "text": [
      "Choose 4 cities you would like to visit, city number 1:Albany\n",
      "City number 2:Bethel\n",
      "City number 3:Palmer\n",
      "City number 4:Fitchburg\n"
     ]
    }
   ],
   "source": [
    "# choose four cities that a customer might want to visit. \n",
    "city1 = input(\"Choose 4 cities you would like to visit, city number 1:\")\n",
    "city2= input(\"City number 2:\")\n",
    "city3= input(\"City number 3:\")\n",
    "city4= input(\"City number 4:\")"
   ]
  },
  {
   "cell_type": "code",
   "execution_count": 3,
   "metadata": {},
   "outputs": [
    {
     "data": {
      "text/html": [
       "<div>\n",
       "<style scoped>\n",
       "    .dataframe tbody tr th:only-of-type {\n",
       "        vertical-align: middle;\n",
       "    }\n",
       "\n",
       "    .dataframe tbody tr th {\n",
       "        vertical-align: top;\n",
       "    }\n",
       "\n",
       "    .dataframe thead th {\n",
       "        text-align: right;\n",
       "    }\n",
       "</style>\n",
       "<table border=\"1\" class=\"dataframe\">\n",
       "  <thead>\n",
       "    <tr style=\"text-align: right;\">\n",
       "      <th></th>\n",
       "      <th>City_ID</th>\n",
       "      <th>City</th>\n",
       "      <th>Country</th>\n",
       "      <th>Max Temp</th>\n",
       "      <th>Current Description</th>\n",
       "      <th>Lat</th>\n",
       "      <th>Lng</th>\n",
       "      <th>Hotel Name</th>\n",
       "    </tr>\n",
       "  </thead>\n",
       "  <tbody>\n",
       "    <tr>\n",
       "      <th>5</th>\n",
       "      <td>33</td>\n",
       "      <td>Albany</td>\n",
       "      <td>US</td>\n",
       "      <td>71.01</td>\n",
       "      <td>clear sky</td>\n",
       "      <td>42.6</td>\n",
       "      <td>-73.97</td>\n",
       "      <td>NaN</td>\n",
       "    </tr>\n",
       "  </tbody>\n",
       "</table>\n",
       "</div>"
      ],
      "text/plain": [
       "   City_ID    City Country  Max Temp Current Description   Lat    Lng  \\\n",
       "5       33  Albany      US     71.01           clear sky  42.6 -73.97   \n",
       "\n",
       "  Hotel Name  \n",
       "5        NaN  "
      ]
     },
     "execution_count": 3,
     "metadata": {},
     "output_type": "execute_result"
    }
   ],
   "source": [
    "# Create separate DataFrames for each city on the travel route.\n",
    "city1_df=WeatherPy_vacation_df.loc[(WeatherPy_vacation_df[\"City\"]==city1)]\n",
    "city1_df"
   ]
  },
  {
   "cell_type": "code",
   "execution_count": 4,
   "metadata": {},
   "outputs": [
    {
     "data": {
      "text/html": [
       "<div>\n",
       "<style scoped>\n",
       "    .dataframe tbody tr th:only-of-type {\n",
       "        vertical-align: middle;\n",
       "    }\n",
       "\n",
       "    .dataframe tbody tr th {\n",
       "        vertical-align: top;\n",
       "    }\n",
       "\n",
       "    .dataframe thead th {\n",
       "        text-align: right;\n",
       "    }\n",
       "</style>\n",
       "<table border=\"1\" class=\"dataframe\">\n",
       "  <thead>\n",
       "    <tr style=\"text-align: right;\">\n",
       "      <th></th>\n",
       "      <th>City_ID</th>\n",
       "      <th>City</th>\n",
       "      <th>Country</th>\n",
       "      <th>Max Temp</th>\n",
       "      <th>Current Description</th>\n",
       "      <th>Lat</th>\n",
       "      <th>Lng</th>\n",
       "      <th>Hotel Name</th>\n",
       "    </tr>\n",
       "  </thead>\n",
       "  <tbody>\n",
       "    <tr>\n",
       "      <th>9</th>\n",
       "      <td>47</td>\n",
       "      <td>Bethel</td>\n",
       "      <td>US</td>\n",
       "      <td>69.01</td>\n",
       "      <td>clear sky</td>\n",
       "      <td>41.37</td>\n",
       "      <td>-73.41</td>\n",
       "      <td>Courtyard by Marriott Danbury</td>\n",
       "    </tr>\n",
       "  </tbody>\n",
       "</table>\n",
       "</div>"
      ],
      "text/plain": [
       "   City_ID    City Country  Max Temp Current Description    Lat    Lng  \\\n",
       "9       47  Bethel      US     69.01           clear sky  41.37 -73.41   \n",
       "\n",
       "                      Hotel Name  \n",
       "9  Courtyard by Marriott Danbury  "
      ]
     },
     "execution_count": 4,
     "metadata": {},
     "output_type": "execute_result"
    }
   ],
   "source": [
    "city2_df=WeatherPy_vacation_df.loc[(WeatherPy_vacation_df[\"City\"]==city2)]\n",
    "city2_df"
   ]
  },
  {
   "cell_type": "code",
   "execution_count": 5,
   "metadata": {},
   "outputs": [
    {
     "data": {
      "text/html": [
       "<div>\n",
       "<style scoped>\n",
       "    .dataframe tbody tr th:only-of-type {\n",
       "        vertical-align: middle;\n",
       "    }\n",
       "\n",
       "    .dataframe tbody tr th {\n",
       "        vertical-align: top;\n",
       "    }\n",
       "\n",
       "    .dataframe thead th {\n",
       "        text-align: right;\n",
       "    }\n",
       "</style>\n",
       "<table border=\"1\" class=\"dataframe\">\n",
       "  <thead>\n",
       "    <tr style=\"text-align: right;\">\n",
       "      <th></th>\n",
       "      <th>City_ID</th>\n",
       "      <th>City</th>\n",
       "      <th>Country</th>\n",
       "      <th>Max Temp</th>\n",
       "      <th>Current Description</th>\n",
       "      <th>Lat</th>\n",
       "      <th>Lng</th>\n",
       "      <th>Hotel Name</th>\n",
       "    </tr>\n",
       "  </thead>\n",
       "  <tbody>\n",
       "    <tr>\n",
       "      <th>78</th>\n",
       "      <td>397</td>\n",
       "      <td>Palmer</td>\n",
       "      <td>US</td>\n",
       "      <td>69.01</td>\n",
       "      <td>clear sky</td>\n",
       "      <td>42.16</td>\n",
       "      <td>-72.33</td>\n",
       "      <td>Wedgewood Motel</td>\n",
       "    </tr>\n",
       "  </tbody>\n",
       "</table>\n",
       "</div>"
      ],
      "text/plain": [
       "    City_ID    City Country  Max Temp Current Description    Lat    Lng  \\\n",
       "78      397  Palmer      US     69.01           clear sky  42.16 -72.33   \n",
       "\n",
       "         Hotel Name  \n",
       "78  Wedgewood Motel  "
      ]
     },
     "execution_count": 5,
     "metadata": {},
     "output_type": "execute_result"
    }
   ],
   "source": [
    "city3_df=WeatherPy_vacation_df.loc[(WeatherPy_vacation_df[\"City\"]==city3)]\n",
    "city3_df"
   ]
  },
  {
   "cell_type": "code",
   "execution_count": 6,
   "metadata": {},
   "outputs": [
    {
     "data": {
      "text/html": [
       "<div>\n",
       "<style scoped>\n",
       "    .dataframe tbody tr th:only-of-type {\n",
       "        vertical-align: middle;\n",
       "    }\n",
       "\n",
       "    .dataframe tbody tr th {\n",
       "        vertical-align: top;\n",
       "    }\n",
       "\n",
       "    .dataframe thead th {\n",
       "        text-align: right;\n",
       "    }\n",
       "</style>\n",
       "<table border=\"1\" class=\"dataframe\">\n",
       "  <thead>\n",
       "    <tr style=\"text-align: right;\">\n",
       "      <th></th>\n",
       "      <th>City_ID</th>\n",
       "      <th>City</th>\n",
       "      <th>Country</th>\n",
       "      <th>Max Temp</th>\n",
       "      <th>Current Description</th>\n",
       "      <th>Lat</th>\n",
       "      <th>Lng</th>\n",
       "      <th>Hotel Name</th>\n",
       "    </tr>\n",
       "  </thead>\n",
       "  <tbody>\n",
       "    <tr>\n",
       "      <th>18</th>\n",
       "      <td>72</td>\n",
       "      <td>Fitchburg</td>\n",
       "      <td>US</td>\n",
       "      <td>69.01</td>\n",
       "      <td>few clouds</td>\n",
       "      <td>42.58</td>\n",
       "      <td>-71.8</td>\n",
       "      <td>Days Inn by Wyndham Leominster/Fitchburg Area</td>\n",
       "    </tr>\n",
       "  </tbody>\n",
       "</table>\n",
       "</div>"
      ],
      "text/plain": [
       "    City_ID       City Country  Max Temp Current Description    Lat   Lng  \\\n",
       "18       72  Fitchburg      US     69.01          few clouds  42.58 -71.8   \n",
       "\n",
       "                                       Hotel Name  \n",
       "18  Days Inn by Wyndham Leominster/Fitchburg Area  "
      ]
     },
     "execution_count": 6,
     "metadata": {},
     "output_type": "execute_result"
    }
   ],
   "source": [
    "city4_df=WeatherPy_vacation_df.loc[(WeatherPy_vacation_df[\"City\"]==city4)]\n",
    "city4_df"
   ]
  },
  {
   "cell_type": "code",
   "execution_count": 7,
   "metadata": {},
   "outputs": [
    {
     "data": {
      "text/html": [
       "<div>\n",
       "<style scoped>\n",
       "    .dataframe tbody tr th:only-of-type {\n",
       "        vertical-align: middle;\n",
       "    }\n",
       "\n",
       "    .dataframe tbody tr th {\n",
       "        vertical-align: top;\n",
       "    }\n",
       "\n",
       "    .dataframe thead th {\n",
       "        text-align: right;\n",
       "    }\n",
       "</style>\n",
       "<table border=\"1\" class=\"dataframe\">\n",
       "  <thead>\n",
       "    <tr style=\"text-align: right;\">\n",
       "      <th></th>\n",
       "      <th>City_ID</th>\n",
       "      <th>City</th>\n",
       "      <th>Country</th>\n",
       "      <th>Max Temp</th>\n",
       "      <th>Current Description</th>\n",
       "      <th>Lat</th>\n",
       "      <th>Lng</th>\n",
       "      <th>Hotel Name</th>\n",
       "    </tr>\n",
       "  </thead>\n",
       "  <tbody>\n",
       "    <tr>\n",
       "      <th>5</th>\n",
       "      <td>33</td>\n",
       "      <td>Albany</td>\n",
       "      <td>US</td>\n",
       "      <td>71.01</td>\n",
       "      <td>clear sky</td>\n",
       "      <td>42.6</td>\n",
       "      <td>-73.97</td>\n",
       "      <td>NaN</td>\n",
       "    </tr>\n",
       "  </tbody>\n",
       "</table>\n",
       "</div>"
      ],
      "text/plain": [
       "   City_ID    City Country  Max Temp Current Description   Lat    Lng  \\\n",
       "5       33  Albany      US     71.01           clear sky  42.6 -73.97   \n",
       "\n",
       "  Hotel Name  \n",
       "5        NaN  "
      ]
     },
     "execution_count": 7,
     "metadata": {},
     "output_type": "execute_result"
    }
   ],
   "source": [
    "city1_df"
   ]
  },
  {
   "cell_type": "code",
   "execution_count": 8,
   "metadata": {},
   "outputs": [
    {
     "data": {
      "text/plain": [
       "(42.6, -73.97)"
      ]
     },
     "execution_count": 8,
     "metadata": {},
     "output_type": "execute_result"
    }
   ],
   "source": [
    "# Get the latitude-longitude pairs for each city DataFrame as tuples.\n",
    "city1_lat=city1_df.iloc[0][\"Lat\"]\n",
    "city1_lng=city1_df.iloc[0][\"Lng\"]\n",
    "city1_coord=(city1_lat,city1_lng)\n",
    "city1_coord"
   ]
  },
  {
   "cell_type": "code",
   "execution_count": 9,
   "metadata": {},
   "outputs": [
    {
     "data": {
      "text/plain": [
       "(41.37, -73.41)"
      ]
     },
     "execution_count": 9,
     "metadata": {},
     "output_type": "execute_result"
    }
   ],
   "source": [
    "city2_lat=city2_df.iloc[0][\"Lat\"]\n",
    "city2_lng=city2_df.iloc[0][\"Lng\"]\n",
    "city2_coord=(city2_lat,city2_lng)\n",
    "city2_coord\n"
   ]
  },
  {
   "cell_type": "code",
   "execution_count": 10,
   "metadata": {},
   "outputs": [
    {
     "data": {
      "text/plain": [
       "(42.16, -72.33)"
      ]
     },
     "execution_count": 10,
     "metadata": {},
     "output_type": "execute_result"
    }
   ],
   "source": [
    "city3_lat=city3_df.iloc[0][\"Lat\"]\n",
    "city3_lng=city3_df.iloc[0][\"Lng\"]\n",
    "city3_coord=(city3_lat,city3_lng)\n",
    "city3_coord"
   ]
  },
  {
   "cell_type": "code",
   "execution_count": 11,
   "metadata": {},
   "outputs": [
    {
     "data": {
      "text/plain": [
       "(42.58, -71.8)"
      ]
     },
     "execution_count": 11,
     "metadata": {},
     "output_type": "execute_result"
    }
   ],
   "source": [
    "city4_lat=city4_df.iloc[0][\"Lat\"]\n",
    "city4_lng=city4_df.iloc[0][\"Lng\"]\n",
    "city4_coord=(city4_lat,city4_lng)\n",
    "city4_coord\n"
   ]
  },
  {
   "cell_type": "code",
   "execution_count": 12,
   "metadata": {},
   "outputs": [
    {
     "data": {
      "application/vnd.jupyter.widget-view+json": {
       "model_id": "965e265215744e398986659774825463",
       "version_major": 2,
       "version_minor": 0
      },
      "text/plain": [
       "Figure(layout=FigureLayout(height='420px'))"
      ]
     },
     "metadata": {},
     "output_type": "display_data"
    }
   ],
   "source": [
    "# Map each city on the route, travel mode - driving.\n",
    "import gmaps.datasets\n",
    "gmaps.configure(api_key=gkey)\n",
    "\n",
    "city1_coord\n",
    "city2_coord\n",
    "city3_coord\n",
    "city4_coord\n",
    "\n",
    "fig = gmaps.figure()\n",
    "city1_coord2city2_coord = gmaps.directions_layer(city1_coord,city4_coord, waypoints=[city2_coord,city3_coord],travel_mode='DRIVING')\n",
    "fig.add_layer(city1_coord2city2_coord )\n",
    "fig\n",
    "\n"
   ]
  },
  {
   "cell_type": "code",
   "execution_count": 13,
   "metadata": {},
   "outputs": [
    {
     "data": {
      "text/html": [
       "<div>\n",
       "<style scoped>\n",
       "    .dataframe tbody tr th:only-of-type {\n",
       "        vertical-align: middle;\n",
       "    }\n",
       "\n",
       "    .dataframe tbody tr th {\n",
       "        vertical-align: top;\n",
       "    }\n",
       "\n",
       "    .dataframe thead th {\n",
       "        text-align: right;\n",
       "    }\n",
       "</style>\n",
       "<table border=\"1\" class=\"dataframe\">\n",
       "  <thead>\n",
       "    <tr style=\"text-align: right;\">\n",
       "      <th></th>\n",
       "      <th>City_ID</th>\n",
       "      <th>City</th>\n",
       "      <th>Country</th>\n",
       "      <th>Max Temp</th>\n",
       "      <th>Current Description</th>\n",
       "      <th>Lat</th>\n",
       "      <th>Lng</th>\n",
       "      <th>Hotel Name</th>\n",
       "    </tr>\n",
       "  </thead>\n",
       "  <tbody>\n",
       "    <tr>\n",
       "      <th>5</th>\n",
       "      <td>33</td>\n",
       "      <td>Albany</td>\n",
       "      <td>US</td>\n",
       "      <td>71.01</td>\n",
       "      <td>clear sky</td>\n",
       "      <td>42.60</td>\n",
       "      <td>-73.97</td>\n",
       "      <td>NaN</td>\n",
       "    </tr>\n",
       "    <tr>\n",
       "      <th>9</th>\n",
       "      <td>47</td>\n",
       "      <td>Bethel</td>\n",
       "      <td>US</td>\n",
       "      <td>69.01</td>\n",
       "      <td>clear sky</td>\n",
       "      <td>41.37</td>\n",
       "      <td>-73.41</td>\n",
       "      <td>Courtyard by Marriott Danbury</td>\n",
       "    </tr>\n",
       "    <tr>\n",
       "      <th>78</th>\n",
       "      <td>397</td>\n",
       "      <td>Palmer</td>\n",
       "      <td>US</td>\n",
       "      <td>69.01</td>\n",
       "      <td>clear sky</td>\n",
       "      <td>42.16</td>\n",
       "      <td>-72.33</td>\n",
       "      <td>Wedgewood Motel</td>\n",
       "    </tr>\n",
       "    <tr>\n",
       "      <th>18</th>\n",
       "      <td>72</td>\n",
       "      <td>Fitchburg</td>\n",
       "      <td>US</td>\n",
       "      <td>69.01</td>\n",
       "      <td>few clouds</td>\n",
       "      <td>42.58</td>\n",
       "      <td>-71.80</td>\n",
       "      <td>Days Inn by Wyndham Leominster/Fitchburg Area</td>\n",
       "    </tr>\n",
       "  </tbody>\n",
       "</table>\n",
       "</div>"
      ],
      "text/plain": [
       "    City_ID       City Country  Max Temp Current Description    Lat    Lng  \\\n",
       "5        33     Albany      US     71.01           clear sky  42.60 -73.97   \n",
       "9        47     Bethel      US     69.01           clear sky  41.37 -73.41   \n",
       "78      397     Palmer      US     69.01           clear sky  42.16 -72.33   \n",
       "18       72  Fitchburg      US     69.01          few clouds  42.58 -71.80   \n",
       "\n",
       "                                       Hotel Name  \n",
       "5                                             NaN  \n",
       "9                   Courtyard by Marriott Danbury  \n",
       "78                                Wedgewood Motel  \n",
       "18  Days Inn by Wyndham Leominster/Fitchburg Area  "
      ]
     },
     "execution_count": 13,
     "metadata": {},
     "output_type": "execute_result"
    }
   ],
   "source": [
    "#Combine the four separate DataFrames for each city into one DataFrame.\n",
    "combined_cities_df=pd.concat([city1_df,city2_df,city3_df,city4_df])\n",
    "combined_cities_df"
   ]
  },
  {
   "cell_type": "code",
   "execution_count": 14,
   "metadata": {},
   "outputs": [],
   "source": [
    "# Add a pop-up marker for each city that displays the hotel name, city name, country, and maximum temperature.\n",
    "info_box_template = \"\"\"\n",
    "<dl>\n",
    "<dt>Hotel Name</dt><dd>{Hotel Name}</dd>\n",
    "<dt>City</dt><dd>{City}</dd>\n",
    "<dt>Country</dt><dd>{Country}</dd>\n",
    "<dt>Current Weather</dt><dd>{Current Description} and {Max Temp} °F</dd>\n",
    "</dl>\n",
    "\"\"\""
   ]
  },
  {
   "cell_type": "code",
   "execution_count": 15,
   "metadata": {},
   "outputs": [],
   "source": [
    "# Store the DataFrame Row.\n",
    "hotel_info = [info_box_template.format(**row) for index, row in combined_cities_df.iterrows()]"
   ]
  },
  {
   "cell_type": "code",
   "execution_count": 16,
   "metadata": {},
   "outputs": [
    {
     "data": {
      "application/vnd.jupyter.widget-view+json": {
       "model_id": "577e7c1ba8cf47ae8fe70a5cb0e3e519",
       "version_major": 2,
       "version_minor": 0
      },
      "text/plain": [
       "Figure(layout=FigureLayout(height='420px'))"
      ]
     },
     "metadata": {},
     "output_type": "display_data"
    }
   ],
   "source": [
    "# Add a heatmap of temperature for the vacation spots and a pop-up marker for each city.\n",
    "locations = combined_cities_df[[\"Lat\", \"Lng\"]]\n",
    "max_temp = combined_cities_df[\"Max Temp\"]\n",
    "fig = gmaps.figure(center=(42.0, -70.0), zoom_level=5)\n",
    "\n",
    "marker_layer = gmaps.marker_layer(locations, info_box_content=hotel_info)\n",
    "\n",
    "fig.add_layer(marker_layer)\n",
    "\n",
    "# Call the figure to plot the data.\n",
    "fig"
   ]
  },
  {
   "cell_type": "code",
   "execution_count": null,
   "metadata": {},
   "outputs": [],
   "source": []
  }
 ],
 "metadata": {
  "kernelspec": {
   "display_name": "Python 3",
   "language": "python",
   "name": "python3"
  },
  "language_info": {
   "codemirror_mode": {
    "name": "ipython",
    "version": 3
   },
   "file_extension": ".py",
   "mimetype": "text/x-python",
   "name": "python",
   "nbconvert_exporter": "python",
   "pygments_lexer": "ipython3",
   "version": "3.7.7"
  }
 },
 "nbformat": 4,
 "nbformat_minor": 4
}
