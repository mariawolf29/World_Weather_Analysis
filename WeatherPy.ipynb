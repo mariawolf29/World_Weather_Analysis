{
 "cells": [
  {
   "cell_type": "code",
   "execution_count": 1,
   "metadata": {},
   "outputs": [],
   "source": [
    "# Import the dependencies.\n",
    "import pandas as pd\n",
    "import matplotlib.pyplot as plt\n",
    "import numpy as np\n",
    "import requests\n",
    "import gmaps\n",
    "\n",
    "# Import linear regression from the SciPy stats module.\n",
    "from scipy.stats import linregress\n",
    "\n",
    "# Import the API key.\n",
    "from config import weather_api_key\n",
    "from config import gkey"
   ]
  },
  {
   "cell_type": "code",
   "execution_count": 2,
   "metadata": {},
   "outputs": [
    {
     "data": {
      "text/plain": [
       "<zip at 0x7ff1756d7640>"
      ]
     },
     "execution_count": 2,
     "metadata": {},
     "output_type": "execute_result"
    }
   ],
   "source": [
    "# Create a set of random latitude and longitude combinations.\n",
    "lats=np.random.uniform(low=-90,high=90,size=1500)\n",
    "lngs=np.random.uniform(low=-180,high=180,size=1500)\n",
    "lat_lngs=zip(lats,lngs)\n",
    "lat_lngs"
   ]
  },
  {
   "cell_type": "code",
   "execution_count": 3,
   "metadata": {},
   "outputs": [],
   "source": [
    "# Create a practice set of random latitude and longitude combinations.\n",
    "#x = [25.12903645, 25.92017388, 26.62509167, -59.98969384, 37.30571269]\n",
    "#y = [-67.59741259, 11.09532135, 74.84233102, -76.89176677, -61.13376282]\n",
    "#coordinates = zip(x, y)\n",
    "#coordinates"
   ]
  },
  {
   "cell_type": "code",
   "execution_count": 4,
   "metadata": {},
   "outputs": [],
   "source": [
    "# Use the tuple() function to display the latitude and longitude combinations.\n",
    "#for coordinate in coordinates:\n",
    "#    print(coordinate[0], coordinate[1])"
   ]
  },
  {
   "cell_type": "code",
   "execution_count": 5,
   "metadata": {},
   "outputs": [],
   "source": [
    "# Add the latitudes and longitudes to a list.\n",
    "coordinates=list(lat_lngs)"
   ]
  },
  {
   "cell_type": "code",
   "execution_count": 6,
   "metadata": {},
   "outputs": [],
   "source": [
    "# Use the citipy module to determine city based on latitude and longitude.\n",
    "from citipy import citipy"
   ]
  },
  {
   "cell_type": "code",
   "execution_count": 7,
   "metadata": {},
   "outputs": [
    {
     "data": {
      "text/plain": [
       "611"
      ]
     },
     "execution_count": 7,
     "metadata": {},
     "output_type": "execute_result"
    }
   ],
   "source": [
    "# Create a list for holding the cities.\n",
    "cities=[]\n",
    "\n",
    "# Identify the nearest city for each latitude and longitude combination.\n",
    "for coordinate in coordinates:\n",
    "    city=citipy.nearest_city(coordinate[0],coordinate[1]).city_name\n",
    "    \n",
    "    # If the city is unique, then we will add it to the cities list\n",
    "    if city not in cities:\n",
    "        cities.append(city)\n",
    "        \n",
    "# Print the city count to confirm sufficient count.\n",
    "len(cities)"
   ]
  },
  {
   "cell_type": "code",
   "execution_count": 8,
   "metadata": {},
   "outputs": [],
   "source": [
    "# Starting URL for Weather Map API Call.\n",
    "url = \"http://api.openweathermap.org/data/2.5/weather?units=Imperial&APPID=\" + weather_api_key\n"
   ]
  },
  {
   "cell_type": "code",
   "execution_count": 9,
   "metadata": {},
   "outputs": [
    {
     "data": {
      "text/plain": [
       "{'coord': {'lon': -71.06, 'lat': 42.36},\n",
       " 'weather': [{'id': 803,\n",
       "   'main': 'Clouds',\n",
       "   'description': 'broken clouds',\n",
       "   'icon': '04n'}],\n",
       " 'base': 'stations',\n",
       " 'main': {'temp': 71.15,\n",
       "  'feels_like': 68.05,\n",
       "  'temp_min': 68,\n",
       "  'temp_max': 73,\n",
       "  'pressure': 1014,\n",
       "  'humidity': 56},\n",
       " 'visibility': 16093,\n",
       " 'wind': {'speed': 8.05, 'deg': 170},\n",
       " 'clouds': {'all': 75},\n",
       " 'dt': 1593147187,\n",
       " 'sys': {'type': 1,\n",
       "  'id': 3486,\n",
       "  'country': 'US',\n",
       "  'sunrise': 1593162545,\n",
       "  'sunset': 1593217507},\n",
       " 'timezone': -14400,\n",
       " 'id': 4930956,\n",
       " 'name': 'Boston',\n",
       " 'cod': 200}"
      ]
     },
     "execution_count": 9,
     "metadata": {},
     "output_type": "execute_result"
    }
   ],
   "source": [
    "# Create an endpoint URL for a city.\n",
    "city_url = url + \"&q=\" + \"Boston\"\n",
    "city_weather = requests.get(city_url)\n",
    "city_weather.json()"
   ]
  },
  {
   "cell_type": "code",
   "execution_count": 10,
   "metadata": {},
   "outputs": [],
   "source": [
    "# Get the JSON data.\n",
    "boston_data=city_weather.json()"
   ]
  },
  {
   "cell_type": "code",
   "execution_count": 11,
   "metadata": {},
   "outputs": [
    {
     "data": {
      "text/plain": [
       "{'type': 1,\n",
       " 'id': 3486,\n",
       " 'country': 'US',\n",
       " 'sunrise': 1593162545,\n",
       " 'sunset': 1593217507}"
      ]
     },
     "execution_count": 11,
     "metadata": {},
     "output_type": "execute_result"
    }
   ],
   "source": [
    "boston_data[\"sys\"]"
   ]
  },
  {
   "cell_type": "code",
   "execution_count": 12,
   "metadata": {},
   "outputs": [
    {
     "data": {
      "text/plain": [
       "'US'"
      ]
     },
     "execution_count": 12,
     "metadata": {},
     "output_type": "execute_result"
    }
   ],
   "source": [
    "boston_data[\"sys\"][\"country\"]"
   ]
  },
  {
   "cell_type": "code",
   "execution_count": 13,
   "metadata": {},
   "outputs": [
    {
     "name": "stdout",
     "output_type": "stream",
     "text": [
      "42.36 -71.06 73 56 75 8.05\n"
     ]
    }
   ],
   "source": [
    "lat=boston_data[\"coord\"][\"lat\"]\n",
    "lng=boston_data[\"coord\"][\"lon\"]\n",
    "max_temp=boston_data[\"main\"][\"temp_max\"]\n",
    "humidity=boston_data[\"main\"][\"humidity\"]\n",
    "clouds=boston_data[\"clouds\"][\"all\"]\n",
    "wind=boston_data[\"wind\"][\"speed\"]\n",
    "print(lat, lng, max_temp, humidity, clouds, wind)"
   ]
  },
  {
   "cell_type": "code",
   "execution_count": 14,
   "metadata": {},
   "outputs": [
    {
     "data": {
      "text/plain": [
       "datetime.datetime(2020, 6, 26, 4, 53, 7)"
      ]
     },
     "execution_count": 14,
     "metadata": {},
     "output_type": "execute_result"
    }
   ],
   "source": [
    "# Import the datetime module from the datetime library.\n",
    "from datetime import datetime\n",
    "\n",
    "# Get the date from the JSON file.\n",
    "date = boston_data[\"dt\"]\n",
    "\n",
    "# Convert the UTC date to a date format with year, month, day, hours, minutes, and seconds.\n",
    "datetime.utcfromtimestamp(date)"
   ]
  },
  {
   "cell_type": "code",
   "execution_count": 15,
   "metadata": {},
   "outputs": [
    {
     "data": {
      "text/plain": [
       "'2020-06-26 04:53:07'"
      ]
     },
     "execution_count": 15,
     "metadata": {},
     "output_type": "execute_result"
    }
   ],
   "source": [
    "datetime.utcfromtimestamp(date).strftime('%Y-%m-%d %H:%M:%S')"
   ]
  },
  {
   "cell_type": "code",
   "execution_count": 16,
   "metadata": {},
   "outputs": [
    {
     "name": "stdout",
     "output_type": "stream",
     "text": [
      "Beginning Data Retrieval     \n",
      "-----------------------------\n"
     ]
    }
   ],
   "source": [
    "# Create an empty list to hold the weather data.\n",
    "city_data = []\n",
    "# Print the beginning of the logging.\n",
    "print(\"Beginning Data Retrieval     \")\n",
    "print(\"-----------------------------\")\n",
    "\n",
    "# Create counters.\n",
    "record_count = 1\n",
    "set_count = 1"
   ]
  },
  {
   "cell_type": "code",
   "execution_count": 17,
   "metadata": {},
   "outputs": [
    {
     "name": "stdout",
     "output_type": "stream",
     "text": [
      "Processing Record 1 of Set 1 | upernavik\n",
      "Processing Record 2 of Set 1 | kita\n",
      "Processing Record 3 of Set 1 | cherskiy\n",
      "Processing Record 4 of Set 1 | chuy\n",
      "Processing Record 5 of Set 1 | luderitz\n",
      "Processing Record 6 of Set 1 | atuona\n",
      "Processing Record 7 of Set 1 | karlovac\n",
      "Processing Record 8 of Set 1 | hithadhoo\n",
      "Processing Record 9 of Set 1 | busselton\n",
      "Processing Record 10 of Set 1 | arraial do cabo\n",
      "Processing Record 11 of Set 1 | te anau\n",
      "Processing Record 12 of Set 1 | lebu\n",
      "Processing Record 13 of Set 1 | puerto escondido\n",
      "Processing Record 14 of Set 1 | ruatoria\n",
      "City 'ruatoria' not found. Skipping...\n",
      "Processing Record 15 of Set 1 | faanui\n",
      "Processing Record 16 of Set 1 | mar del plata\n",
      "Processing Record 17 of Set 1 | port hedland\n",
      "Processing Record 18 of Set 1 | ushuaia\n",
      "Processing Record 19 of Set 1 | yulara\n",
      "Processing Record 20 of Set 1 | rikitea\n",
      "Processing Record 21 of Set 1 | georgetown\n",
      "Processing Record 22 of Set 1 | pevek\n",
      "Processing Record 23 of Set 1 | gondanglegi\n",
      "Processing Record 24 of Set 1 | aitape\n",
      "Processing Record 25 of Set 1 | iquique\n",
      "Processing Record 26 of Set 1 | khurda\n",
      "Processing Record 27 of Set 1 | ghanzi\n",
      "Processing Record 28 of Set 1 | taonan\n",
      "Processing Record 29 of Set 1 | keti bandar\n",
      "Processing Record 30 of Set 1 | pontianak\n",
      "Processing Record 31 of Set 1 | los llanos de aridane\n",
      "Processing Record 32 of Set 1 | jalpan\n",
      "Processing Record 33 of Set 1 | avarua\n",
      "Processing Record 34 of Set 1 | buala\n",
      "Processing Record 35 of Set 1 | mishan\n",
      "Processing Record 36 of Set 1 | sao filipe\n",
      "Processing Record 37 of Set 1 | illoqqortoormiut\n",
      "City 'illoqqortoormiut' not found. Skipping...\n",
      "Processing Record 38 of Set 1 | paita\n",
      "Processing Record 39 of Set 1 | cidreira\n",
      "Processing Record 40 of Set 1 | mataura\n",
      "Processing Record 41 of Set 1 | katsuura\n",
      "Processing Record 42 of Set 1 | cape town\n",
      "Processing Record 43 of Set 1 | sitka\n",
      "Processing Record 44 of Set 1 | beloha\n",
      "Processing Record 45 of Set 1 | airai\n",
      "Processing Record 46 of Set 1 | hofn\n",
      "Processing Record 47 of Set 1 | port alfred\n",
      "Processing Record 48 of Set 1 | khatanga\n",
      "Processing Record 49 of Set 1 | taolanaro\n",
      "City 'taolanaro' not found. Skipping...\n",
      "Processing Record 50 of Set 1 | thinadhoo\n",
      "Processing Record 1 of Set 2 | iqaluit\n",
      "Processing Record 2 of Set 2 | jamestown\n",
      "Processing Record 3 of Set 2 | port keats\n",
      "Processing Record 4 of Set 2 | umm lajj\n",
      "Processing Record 5 of Set 2 | zaymishche\n",
      "Processing Record 6 of Set 2 | butaritari\n",
      "Processing Record 7 of Set 2 | mount isa\n",
      "Processing Record 8 of Set 2 | bethel\n",
      "Processing Record 9 of Set 2 | vaini\n",
      "Processing Record 10 of Set 2 | yellowknife\n",
      "Processing Record 11 of Set 2 | kysyl-syr\n",
      "Processing Record 12 of Set 2 | asau\n",
      "Processing Record 13 of Set 2 | monterrey\n",
      "Processing Record 14 of Set 2 | thompson\n",
      "Processing Record 15 of Set 2 | mayo\n",
      "Processing Record 16 of Set 2 | kahului\n",
      "Processing Record 17 of Set 2 | lucapa\n",
      "Processing Record 18 of Set 2 | norman wells\n",
      "Processing Record 19 of Set 2 | lompoc\n",
      "Processing Record 20 of Set 2 | pecos\n",
      "Processing Record 21 of Set 2 | kapaa\n",
      "Processing Record 22 of Set 2 | tabou\n",
      "Processing Record 23 of Set 2 | weyburn\n",
      "Processing Record 24 of Set 2 | teguise\n",
      "Processing Record 25 of Set 2 | punta arenas\n",
      "Processing Record 26 of Set 2 | karonga\n",
      "Processing Record 27 of Set 2 | nawa\n",
      "Processing Record 28 of Set 2 | bluff\n",
      "Processing Record 29 of Set 2 | cravo norte\n",
      "Processing Record 30 of Set 2 | katobu\n",
      "Processing Record 31 of Set 2 | haldensleben\n",
      "Processing Record 32 of Set 2 | saint george\n",
      "Processing Record 33 of Set 2 | nanortalik\n",
      "Processing Record 34 of Set 2 | kodiak\n",
      "Processing Record 35 of Set 2 | provideniya\n",
      "Processing Record 36 of Set 2 | barentsburg\n",
      "City 'barentsburg' not found. Skipping...\n",
      "Processing Record 37 of Set 2 | geraldton\n",
      "Processing Record 38 of Set 2 | taunggyi\n",
      "Processing Record 39 of Set 2 | klaksvik\n",
      "Processing Record 40 of Set 2 | saint-philippe\n",
      "Processing Record 41 of Set 2 | albany\n",
      "Processing Record 42 of Set 2 | isangel\n",
      "Processing Record 43 of Set 2 | saint-augustin\n",
      "Processing Record 44 of Set 2 | teguldet\n",
      "Processing Record 45 of Set 2 | ancud\n",
      "Processing Record 46 of Set 2 | meulaboh\n",
      "Processing Record 47 of Set 2 | poum\n",
      "Processing Record 48 of Set 2 | krasnoselkup\n",
      "Processing Record 49 of Set 2 | cabo san lucas\n",
      "Processing Record 50 of Set 2 | kavieng\n",
      "Processing Record 1 of Set 3 | kropotkin\n",
      "Processing Record 2 of Set 3 | komsomolskiy\n",
      "Processing Record 3 of Set 3 | tasiilaq\n",
      "Processing Record 4 of Set 3 | sao luiz gonzaga\n",
      "Processing Record 5 of Set 3 | bilibino\n",
      "Processing Record 6 of Set 3 | port lincoln\n",
      "Processing Record 7 of Set 3 | yala\n",
      "Processing Record 8 of Set 3 | ambodifototra\n",
      "City 'ambodifototra' not found. Skipping...\n",
      "Processing Record 9 of Set 3 | kretinga\n",
      "Processing Record 10 of Set 3 | meyungs\n",
      "City 'meyungs' not found. Skipping...\n",
      "Processing Record 11 of Set 3 | havre-saint-pierre\n",
      "Processing Record 12 of Set 3 | cervo\n",
      "Processing Record 13 of Set 3 | lavrentiya\n",
      "Processing Record 14 of Set 3 | chokurdakh\n",
      "Processing Record 15 of Set 3 | sangar\n",
      "Processing Record 16 of Set 3 | ribeira grande\n",
      "Processing Record 17 of Set 3 | new norfolk\n",
      "Processing Record 18 of Set 3 | east london\n",
      "Processing Record 19 of Set 3 | concordia\n",
      "Processing Record 20 of Set 3 | mount gambier\n",
      "Processing Record 21 of Set 3 | tautira\n",
      "Processing Record 22 of Set 3 | castro\n",
      "Processing Record 23 of Set 3 | barrow\n",
      "Processing Record 24 of Set 3 | general roca\n",
      "Processing Record 25 of Set 3 | daoukro\n",
      "Processing Record 26 of Set 3 | qaanaaq\n",
      "Processing Record 27 of Set 3 | tubuala\n",
      "Processing Record 28 of Set 3 | sidi ali\n",
      "Processing Record 29 of Set 3 | longyearbyen\n",
      "Processing Record 30 of Set 3 | hermanus\n",
      "Processing Record 31 of Set 3 | usinsk\n",
      "Processing Record 32 of Set 3 | bagdarin\n",
      "Processing Record 33 of Set 3 | codrington\n",
      "Processing Record 34 of Set 3 | malysheva\n",
      "Processing Record 35 of Set 3 | olafsvik\n",
      "Processing Record 36 of Set 3 | eganville\n",
      "Processing Record 37 of Set 3 | tagusao\n",
      "Processing Record 38 of Set 3 | bathsheba\n",
      "Processing Record 39 of Set 3 | saint anthony\n",
      "Processing Record 40 of Set 3 | vestmannaeyjar\n",
      "Processing Record 41 of Set 3 | nsanje\n",
      "Processing Record 42 of Set 3 | makakilo city\n",
      "Processing Record 43 of Set 3 | namatanai\n",
      "Processing Record 44 of Set 3 | khagrachari\n",
      "City 'khagrachari' not found. Skipping...\n",
      "Processing Record 45 of Set 3 | anloga\n",
      "Processing Record 46 of Set 3 | tiksi\n",
      "Processing Record 47 of Set 3 | laguna\n",
      "Processing Record 48 of Set 3 | tuktoyaktuk\n",
      "Processing Record 49 of Set 3 | pauini\n",
      "Processing Record 50 of Set 3 | warmbad\n",
      "Processing Record 1 of Set 4 | cedar city\n",
      "Processing Record 2 of Set 4 | mildura\n",
      "Processing Record 3 of Set 4 | flin flon\n",
      "Processing Record 4 of Set 4 | fort nelson\n",
      "Processing Record 5 of Set 4 | saldanha\n",
      "Processing Record 6 of Set 4 | bredasdorp\n",
      "Processing Record 7 of Set 4 | muzaffarabad\n",
      "Processing Record 8 of Set 4 | kruisfontein\n",
      "Processing Record 9 of Set 4 | doha\n",
      "Processing Record 10 of Set 4 | mahebourg\n",
      "Processing Record 11 of Set 4 | arona\n",
      "Processing Record 12 of Set 4 | hambantota\n",
      "Processing Record 13 of Set 4 | kasongo\n",
      "Processing Record 14 of Set 4 | amderma\n",
      "City 'amderma' not found. Skipping...\n",
      "Processing Record 15 of Set 4 | lasa\n",
      "Processing Record 16 of Set 4 | cape coast\n",
      "Processing Record 17 of Set 4 | ponta do sol\n",
      "Processing Record 18 of Set 4 | nome\n",
      "Processing Record 19 of Set 4 | puerto ayora\n",
      "Processing Record 20 of Set 4 | kyra\n",
      "Processing Record 21 of Set 4 | samusu\n",
      "City 'samusu' not found. Skipping...\n",
      "Processing Record 22 of Set 4 | oktyabrskiy\n",
      "Processing Record 23 of Set 4 | alice springs\n",
      "Processing Record 24 of Set 4 | yarim\n",
      "Processing Record 25 of Set 4 | corozal\n",
      "Processing Record 26 of Set 4 | boden\n",
      "Processing Record 27 of Set 4 | kibakwe\n",
      "Processing Record 28 of Set 4 | disna\n",
      "Processing Record 29 of Set 4 | paamiut\n",
      "Processing Record 30 of Set 4 | pangnirtung\n",
      "Processing Record 31 of Set 4 | kenora\n",
      "Processing Record 32 of Set 4 | kabanjahe\n",
      "Processing Record 33 of Set 4 | dikson\n",
      "Processing Record 34 of Set 4 | severo-kurilsk\n",
      "Processing Record 35 of Set 4 | hobart\n",
      "Processing Record 36 of Set 4 | kavaratti\n",
      "Processing Record 37 of Set 4 | formoso do araguaia\n",
      "City 'formoso do araguaia' not found. Skipping...\n",
      "Processing Record 38 of Set 4 | nikolskoye\n",
      "Processing Record 39 of Set 4 | svetlaya\n"
     ]
    },
    {
     "name": "stdout",
     "output_type": "stream",
     "text": [
      "Processing Record 40 of Set 4 | souillac\n",
      "Processing Record 41 of Set 4 | berezovyy\n",
      "Processing Record 42 of Set 4 | cayenne\n",
      "Processing Record 43 of Set 4 | quatre cocos\n",
      "Processing Record 44 of Set 4 | vaitupu\n",
      "City 'vaitupu' not found. Skipping...\n",
      "Processing Record 45 of Set 4 | lodja\n",
      "Processing Record 46 of Set 4 | jonkoping\n",
      "Processing Record 47 of Set 4 | naugarzan\n",
      "City 'naugarzan' not found. Skipping...\n",
      "Processing Record 48 of Set 4 | nizhneyansk\n",
      "City 'nizhneyansk' not found. Skipping...\n",
      "Processing Record 49 of Set 4 | benoy\n",
      "Processing Record 50 of Set 4 | lakatoro\n",
      "Processing Record 1 of Set 5 | paragominas\n",
      "Processing Record 2 of Set 5 | sentyabrskiy\n",
      "City 'sentyabrskiy' not found. Skipping...\n",
      "Processing Record 3 of Set 5 | gat\n",
      "Processing Record 4 of Set 5 | varhaug\n",
      "Processing Record 5 of Set 5 | assiniboia\n",
      "Processing Record 6 of Set 5 | trinidad\n",
      "Processing Record 7 of Set 5 | necochea\n",
      "Processing Record 8 of Set 5 | wilmington\n",
      "Processing Record 9 of Set 5 | jumla\n",
      "Processing Record 10 of Set 5 | ponta delgada\n",
      "Processing Record 11 of Set 5 | basavana bagevadi\n",
      "Processing Record 12 of Set 5 | vila velha\n",
      "Processing Record 13 of Set 5 | micheweni\n",
      "Processing Record 14 of Set 5 | hilo\n",
      "Processing Record 15 of Set 5 | skjervoy\n",
      "Processing Record 16 of Set 5 | marystown\n",
      "Processing Record 17 of Set 5 | carnarvon\n",
      "Processing Record 18 of Set 5 | yerbogachen\n",
      "Processing Record 19 of Set 5 | alofi\n",
      "Processing Record 20 of Set 5 | tual\n",
      "Processing Record 21 of Set 5 | mantua\n",
      "Processing Record 22 of Set 5 | lorengau\n",
      "Processing Record 23 of Set 5 | port elizabeth\n",
      "Processing Record 24 of Set 5 | mys shmidta\n",
      "City 'mys shmidta' not found. Skipping...\n",
      "Processing Record 25 of Set 5 | port-de-paix\n",
      "City 'port-de-paix' not found. Skipping...\n",
      "Processing Record 26 of Set 5 | cap malheureux\n",
      "Processing Record 27 of Set 5 | kamenskoye\n",
      "City 'kamenskoye' not found. Skipping...\n",
      "Processing Record 28 of Set 5 | sorada\n",
      "Processing Record 29 of Set 5 | darova\n",
      "Processing Record 30 of Set 5 | mangan\n",
      "Processing Record 31 of Set 5 | bulolo\n",
      "Processing Record 32 of Set 5 | san patricio\n",
      "Processing Record 33 of Set 5 | finnsnes\n",
      "Processing Record 34 of Set 5 | north bend\n",
      "Processing Record 35 of Set 5 | umzimvubu\n",
      "City 'umzimvubu' not found. Skipping...\n",
      "Processing Record 36 of Set 5 | camacha\n",
      "Processing Record 37 of Set 5 | nandikotkur\n",
      "Processing Record 38 of Set 5 | lake saint louis\n",
      "Processing Record 39 of Set 5 | victoria\n",
      "Processing Record 40 of Set 5 | sabang\n",
      "Processing Record 41 of Set 5 | ilulissat\n",
      "Processing Record 42 of Set 5 | guerrero negro\n",
      "Processing Record 43 of Set 5 | saleaula\n",
      "City 'saleaula' not found. Skipping...\n",
      "Processing Record 44 of Set 5 | nikel\n",
      "Processing Record 45 of Set 5 | belushya guba\n",
      "City 'belushya guba' not found. Skipping...\n",
      "Processing Record 46 of Set 5 | reconquista\n",
      "Processing Record 47 of Set 5 | santa rosa\n",
      "Processing Record 48 of Set 5 | ha\n",
      "City 'ha' not found. Skipping...\n",
      "Processing Record 49 of Set 5 | caravelas\n",
      "Processing Record 50 of Set 5 | marcona\n",
      "City 'marcona' not found. Skipping...\n",
      "Processing Record 1 of Set 6 | kupang\n",
      "Processing Record 2 of Set 6 | vavatenina\n",
      "Processing Record 3 of Set 6 | soanierana ivongo\n",
      "Processing Record 4 of Set 6 | spearfish\n",
      "Processing Record 5 of Set 6 | darhan\n",
      "Processing Record 6 of Set 6 | asyut\n",
      "Processing Record 7 of Set 6 | coahuayana\n",
      "Processing Record 8 of Set 6 | ormara\n",
      "Processing Record 9 of Set 6 | chicama\n",
      "Processing Record 10 of Set 6 | isla mujeres\n",
      "Processing Record 11 of Set 6 | tuatapere\n",
      "Processing Record 12 of Set 6 | touros\n",
      "Processing Record 13 of Set 6 | la macarena\n",
      "Processing Record 14 of Set 6 | rawson\n",
      "Processing Record 15 of Set 6 | chilchota\n",
      "Processing Record 16 of Set 6 | dagda\n",
      "Processing Record 17 of Set 6 | aklavik\n",
      "Processing Record 18 of Set 6 | kaitangata\n",
      "Processing Record 19 of Set 6 | tobermory\n",
      "Processing Record 20 of Set 6 | odweyne\n",
      "Processing Record 21 of Set 6 | kutum\n",
      "Processing Record 22 of Set 6 | samalaeulu\n",
      "City 'samalaeulu' not found. Skipping...\n",
      "Processing Record 23 of Set 6 | fairbanks\n",
      "Processing Record 24 of Set 6 | kalmar\n",
      "Processing Record 25 of Set 6 | eirunepe\n",
      "Processing Record 26 of Set 6 | saint-louis\n",
      "Processing Record 27 of Set 6 | serta\n",
      "Processing Record 28 of Set 6 | torbay\n",
      "Processing Record 29 of Set 6 | ternate\n",
      "Processing Record 30 of Set 6 | mangrol\n",
      "Processing Record 31 of Set 6 | pizarro\n",
      "Processing Record 32 of Set 6 | shimoda\n",
      "Processing Record 33 of Set 6 | qiqihar\n",
      "Processing Record 34 of Set 6 | nelson\n",
      "Processing Record 35 of Set 6 | songkhla\n",
      "Processing Record 36 of Set 6 | ibotirama\n",
      "Processing Record 37 of Set 6 | fukue\n",
      "Processing Record 38 of Set 6 | ostersund\n",
      "Processing Record 39 of Set 6 | beringovskiy\n",
      "Processing Record 40 of Set 6 | maceio\n",
      "Processing Record 41 of Set 6 | bonthe\n",
      "Processing Record 42 of Set 6 | clyde river\n",
      "Processing Record 43 of Set 6 | sayyan\n",
      "Processing Record 44 of Set 6 | tooele\n",
      "Processing Record 45 of Set 6 | alikovo\n",
      "Processing Record 46 of Set 6 | paz de ariporo\n",
      "City 'paz de ariporo' not found. Skipping...\n",
      "Processing Record 47 of Set 6 | gbadolite\n",
      "Processing Record 48 of Set 6 | bambous virieux\n",
      "Processing Record 49 of Set 6 | stykkisholmur\n",
      "Processing Record 50 of Set 6 | hammerfest\n",
      "Processing Record 1 of Set 7 | nguruka\n",
      "Processing Record 2 of Set 7 | sapulpa\n",
      "Processing Record 3 of Set 7 | nykoping\n",
      "Processing Record 4 of Set 7 | bereda\n",
      "Processing Record 5 of Set 7 | wanaka\n",
      "Processing Record 6 of Set 7 | ambon\n",
      "Processing Record 7 of Set 7 | conguaco\n",
      "Processing Record 8 of Set 7 | mitsamiouli\n",
      "Processing Record 9 of Set 7 | maltahohe\n",
      "Processing Record 10 of Set 7 | bridlington\n",
      "Processing Record 11 of Set 7 | adre\n",
      "Processing Record 12 of Set 7 | stoyba\n",
      "City 'stoyba' not found. Skipping...\n",
      "Processing Record 13 of Set 7 | broken hill\n",
      "Processing Record 14 of Set 7 | praia da vitoria\n",
      "Processing Record 15 of Set 7 | alta floresta\n",
      "Processing Record 16 of Set 7 | itoman\n",
      "Processing Record 17 of Set 7 | azanka\n",
      "Processing Record 18 of Set 7 | deputatskiy\n",
      "Processing Record 19 of Set 7 | bowen\n",
      "Processing Record 20 of Set 7 | palabuhanratu\n",
      "City 'palabuhanratu' not found. Skipping...\n",
      "Processing Record 21 of Set 7 | tacoronte\n",
      "Processing Record 22 of Set 7 | westport\n",
      "Processing Record 23 of Set 7 | beira\n",
      "Processing Record 24 of Set 7 | bumba\n",
      "Processing Record 25 of Set 7 | berlevag\n",
      "Processing Record 26 of Set 7 | tsihombe\n",
      "City 'tsihombe' not found. Skipping...\n",
      "Processing Record 27 of Set 7 | inongo\n",
      "Processing Record 28 of Set 7 | faya\n",
      "Processing Record 29 of Set 7 | yar-sale\n",
      "Processing Record 30 of Set 7 | lalomanu\n",
      "City 'lalomanu' not found. Skipping...\n",
      "Processing Record 31 of Set 7 | lethem\n",
      "Processing Record 32 of Set 7 | almansa\n",
      "Processing Record 33 of Set 7 | lashio\n",
      "Processing Record 34 of Set 7 | new corella\n",
      "Processing Record 35 of Set 7 | mendahara\n",
      "City 'mendahara' not found. Skipping...\n",
      "Processing Record 36 of Set 7 | vardo\n",
      "Processing Record 37 of Set 7 | kosh-agach\n",
      "Processing Record 38 of Set 7 | matara\n",
      "Processing Record 39 of Set 7 | tan an\n",
      "Processing Record 40 of Set 7 | marzuq\n",
      "Processing Record 41 of Set 7 | teya\n",
      "Processing Record 42 of Set 7 | lazaro cardenas\n",
      "Processing Record 43 of Set 7 | coquimbo\n",
      "Processing Record 44 of Set 7 | kenai\n",
      "Processing Record 45 of Set 7 | muros\n",
      "Processing Record 46 of Set 7 | verkhnyaya balkariya\n",
      "Processing Record 47 of Set 7 | mehamn\n",
      "Processing Record 48 of Set 7 | vuktyl\n",
      "Processing Record 49 of Set 7 | wilmington island\n",
      "Processing Record 50 of Set 7 | nam tha\n",
      "City 'nam tha' not found. Skipping...\n",
      "Processing Record 1 of Set 8 | esperance\n",
      "Processing Record 2 of Set 8 | khandyga\n",
      "Processing Record 3 of Set 8 | wainwright\n",
      "Processing Record 4 of Set 8 | tuy hoa\n",
      "Processing Record 5 of Set 8 | ornskoldsvik\n",
      "Processing Record 6 of Set 8 | aksarka\n",
      "Processing Record 7 of Set 8 | navahrudak\n",
      "Processing Record 8 of Set 8 | el cobre\n",
      "Processing Record 9 of Set 8 | attawapiskat\n",
      "City 'attawapiskat' not found. Skipping...\n",
      "Processing Record 10 of Set 8 | tigil\n",
      "Processing Record 11 of Set 8 | bilma\n",
      "Processing Record 12 of Set 8 | novyy urengoy\n",
      "Processing Record 13 of Set 8 | moratuwa\n",
      "Processing Record 14 of Set 8 | porto novo\n",
      "Processing Record 15 of Set 8 | salalah\n",
      "Processing Record 16 of Set 8 | barabash\n",
      "Processing Record 17 of Set 8 | burnie\n",
      "Processing Record 18 of Set 8 | neryungri\n",
      "Processing Record 19 of Set 8 | mumford\n",
      "Processing Record 20 of Set 8 | saint-pierre\n",
      "Processing Record 21 of Set 8 | maragheh\n"
     ]
    },
    {
     "name": "stdout",
     "output_type": "stream",
     "text": [
      "Processing Record 22 of Set 8 | dingle\n",
      "Processing Record 23 of Set 8 | evensk\n",
      "Processing Record 24 of Set 8 | camacupa\n",
      "Processing Record 25 of Set 8 | namibe\n",
      "Processing Record 26 of Set 8 | abu dhabi\n",
      "Processing Record 27 of Set 8 | urusha\n",
      "Processing Record 28 of Set 8 | vila franca do campo\n",
      "Processing Record 29 of Set 8 | ribas do rio pardo\n",
      "Processing Record 30 of Set 8 | hillsborough\n",
      "Processing Record 31 of Set 8 | sistranda\n",
      "Processing Record 32 of Set 8 | jalu\n",
      "Processing Record 33 of Set 8 | sao joao da barra\n",
      "Processing Record 34 of Set 8 | shakiso\n",
      "Processing Record 35 of Set 8 | riyadh\n",
      "Processing Record 36 of Set 8 | garmsar\n",
      "Processing Record 37 of Set 8 | biltine\n",
      "Processing Record 38 of Set 8 | bengkulu\n",
      "Processing Record 39 of Set 8 | conceicao da barra\n",
      "Processing Record 40 of Set 8 | rock sound\n",
      "Processing Record 41 of Set 8 | jensen beach\n",
      "Processing Record 42 of Set 8 | menomonie\n",
      "Processing Record 43 of Set 8 | husavik\n",
      "Processing Record 44 of Set 8 | machico\n",
      "Processing Record 45 of Set 8 | grand river south east\n",
      "City 'grand river south east' not found. Skipping...\n",
      "Processing Record 46 of Set 8 | changji\n",
      "Processing Record 47 of Set 8 | dunedin\n",
      "Processing Record 48 of Set 8 | waingapu\n",
      "Processing Record 49 of Set 8 | puerto madryn\n",
      "Processing Record 50 of Set 8 | colina\n",
      "Processing Record 1 of Set 9 | salta\n",
      "Processing Record 2 of Set 9 | constitucion\n",
      "Processing Record 3 of Set 9 | laguna de perlas\n",
      "Processing Record 4 of Set 9 | cabedelo\n",
      "Processing Record 5 of Set 9 | kalmunai\n",
      "Processing Record 6 of Set 9 | karauzyak\n",
      "City 'karauzyak' not found. Skipping...\n",
      "Processing Record 7 of Set 9 | igarka\n",
      "Processing Record 8 of Set 9 | dalbandin\n",
      "Processing Record 9 of Set 9 | segou\n",
      "Processing Record 10 of Set 9 | margate\n",
      "Processing Record 11 of Set 9 | sao jose da coroa grande\n",
      "Processing Record 12 of Set 9 | ribera\n",
      "Processing Record 13 of Set 9 | naze\n",
      "Processing Record 14 of Set 9 | madang\n",
      "Processing Record 15 of Set 9 | comodoro rivadavia\n",
      "Processing Record 16 of Set 9 | port augusta\n",
      "Processing Record 17 of Set 9 | saskylakh\n",
      "Processing Record 18 of Set 9 | port blair\n",
      "Processing Record 19 of Set 9 | magway\n",
      "Processing Record 20 of Set 9 | russkaya polyana\n",
      "Processing Record 21 of Set 9 | aurillac\n",
      "Processing Record 22 of Set 9 | helong\n",
      "Processing Record 23 of Set 9 | deep river\n",
      "Processing Record 24 of Set 9 | dolbeau\n",
      "City 'dolbeau' not found. Skipping...\n",
      "Processing Record 25 of Set 9 | lagoa\n",
      "Processing Record 26 of Set 9 | northam\n",
      "Processing Record 27 of Set 9 | kambove\n",
      "Processing Record 28 of Set 9 | plettenberg bay\n",
      "Processing Record 29 of Set 9 | araouane\n",
      "Processing Record 30 of Set 9 | ostrovnoy\n",
      "Processing Record 31 of Set 9 | wulanhaote\n",
      "City 'wulanhaote' not found. Skipping...\n",
      "Processing Record 32 of Set 9 | torremolinos\n",
      "Processing Record 33 of Set 9 | marsh harbour\n",
      "Processing Record 34 of Set 9 | shkoder\n",
      "Processing Record 35 of Set 9 | bima\n",
      "Processing Record 36 of Set 9 | ishigaki\n",
      "Processing Record 37 of Set 9 | tingloy\n",
      "Processing Record 38 of Set 9 | korla\n",
      "Processing Record 39 of Set 9 | anupgarh\n",
      "Processing Record 40 of Set 9 | svetlyy\n",
      "Processing Record 41 of Set 9 | havelock\n",
      "Processing Record 42 of Set 9 | nkayi\n",
      "Processing Record 43 of Set 9 | labuan\n",
      "Processing Record 44 of Set 9 | maturin\n",
      "Processing Record 45 of Set 9 | ust-kuyga\n",
      "Processing Record 46 of Set 9 | la ronge\n",
      "Processing Record 47 of Set 9 | goderich\n",
      "Processing Record 48 of Set 9 | hasaki\n",
      "Processing Record 49 of Set 9 | auki\n",
      "Processing Record 50 of Set 9 | pervomayskoye\n",
      "Processing Record 1 of Set 10 | luau\n",
      "Processing Record 2 of Set 10 | cockburn town\n",
      "Processing Record 3 of Set 10 | kawalu\n",
      "Processing Record 4 of Set 10 | grosuplje\n",
      "Processing Record 5 of Set 10 | luanda\n",
      "Processing Record 6 of Set 10 | narsaq\n",
      "Processing Record 7 of Set 10 | kokopo\n",
      "Processing Record 8 of Set 10 | zyryanovskiy\n",
      "City 'zyryanovskiy' not found. Skipping...\n",
      "Processing Record 9 of Set 10 | pilao arcado\n",
      "City 'pilao arcado' not found. Skipping...\n",
      "Processing Record 10 of Set 10 | lemon tree passage\n",
      "Processing Record 11 of Set 10 | basoko\n",
      "Processing Record 12 of Set 10 | igrim\n",
      "Processing Record 13 of Set 10 | matamoros\n",
      "Processing Record 14 of Set 10 | kungurtug\n",
      "Processing Record 15 of Set 10 | villaviciosa\n",
      "Processing Record 16 of Set 10 | elizabeth city\n",
      "Processing Record 17 of Set 10 | temanggung\n",
      "Processing Record 18 of Set 10 | port moresby\n",
      "Processing Record 19 of Set 10 | requena\n",
      "Processing Record 20 of Set 10 | el reten\n",
      "Processing Record 21 of Set 10 | alindao\n",
      "Processing Record 22 of Set 10 | kerema\n",
      "Processing Record 23 of Set 10 | lensk\n",
      "Processing Record 24 of Set 10 | grindavik\n",
      "Processing Record 25 of Set 10 | ucluelet\n",
      "Processing Record 26 of Set 10 | tarakan\n",
      "Processing Record 27 of Set 10 | ixtapa\n",
      "Processing Record 28 of Set 10 | san carlos de bariloche\n",
      "Processing Record 29 of Set 10 | piacabucu\n",
      "Processing Record 30 of Set 10 | dubinino\n",
      "Processing Record 31 of Set 10 | lakes entrance\n",
      "Processing Record 32 of Set 10 | richards bay\n",
      "Processing Record 33 of Set 10 | pangkalanbuun\n",
      "Processing Record 34 of Set 10 | cumaribo\n",
      "City 'cumaribo' not found. Skipping...\n",
      "Processing Record 35 of Set 10 | osakarovka\n",
      "Processing Record 36 of Set 10 | maragogi\n",
      "Processing Record 37 of Set 10 | carballo\n",
      "Processing Record 38 of Set 10 | toma\n",
      "Processing Record 39 of Set 10 | tucurui\n",
      "Processing Record 40 of Set 10 | cabatuan\n",
      "Processing Record 41 of Set 10 | santa maria\n",
      "Processing Record 42 of Set 10 | mandera\n",
      "Processing Record 43 of Set 10 | tofield\n",
      "Processing Record 44 of Set 10 | hailar\n",
      "Processing Record 45 of Set 10 | ialibu\n",
      "Processing Record 46 of Set 10 | sukhumi\n",
      "Processing Record 47 of Set 10 | talnakh\n",
      "Processing Record 48 of Set 10 | coihaique\n",
      "Processing Record 49 of Set 10 | russell\n",
      "Processing Record 50 of Set 10 | singkang\n",
      "Processing Record 1 of Set 11 | farafangana\n",
      "Processing Record 2 of Set 11 | sept-iles\n",
      "Processing Record 3 of Set 11 | jeremie\n",
      "Processing Record 4 of Set 11 | vanimo\n",
      "Processing Record 5 of Set 11 | hervey bay\n",
      "Processing Record 6 of Set 11 | fez\n",
      "Processing Record 7 of Set 11 | beitbridge\n",
      "Processing Record 8 of Set 11 | niksic\n",
      "Processing Record 9 of Set 11 | pantelimon\n",
      "Processing Record 10 of Set 11 | peniche\n",
      "Processing Record 11 of Set 11 | champerico\n",
      "Processing Record 12 of Set 11 | udachnyy\n",
      "Processing Record 13 of Set 11 | kedrovyy\n",
      "Processing Record 14 of Set 11 | grafton\n",
      "Processing Record 15 of Set 11 | tatawin\n",
      "Processing Record 16 of Set 11 | nuevo imperial\n",
      "Processing Record 17 of Set 11 | acapulco\n",
      "Processing Record 18 of Set 11 | muyezerskiy\n",
      "Processing Record 19 of Set 11 | witu\n",
      "Processing Record 20 of Set 11 | yialos\n",
      "City 'yialos' not found. Skipping...\n",
      "Processing Record 21 of Set 11 | egvekinot\n",
      "Processing Record 22 of Set 11 | mamallapuram\n",
      "Processing Record 23 of Set 11 | apatity\n",
      "Processing Record 24 of Set 11 | bubaque\n",
      "Processing Record 25 of Set 11 | vallenar\n",
      "Processing Record 26 of Set 11 | misratah\n",
      "Processing Record 27 of Set 11 | grenfell\n",
      "Processing Record 28 of Set 11 | moranbah\n",
      "Processing Record 29 of Set 11 | guarapari\n",
      "Processing Record 30 of Set 11 | ilhabela\n",
      "Processing Record 31 of Set 11 | yokadouma\n",
      "Processing Record 32 of Set 11 | avera\n",
      "Processing Record 33 of Set 11 | sinjar\n",
      "Processing Record 34 of Set 11 | general pico\n",
      "Processing Record 35 of Set 11 | qaqortoq\n",
      "Processing Record 36 of Set 11 | japura\n",
      "Processing Record 37 of Set 11 | yumen\n",
      "Processing Record 38 of Set 11 | adrar\n",
      "Processing Record 39 of Set 11 | blytheville\n",
      "Processing Record 40 of Set 11 | aykhal\n",
      "Processing Record 41 of Set 11 | petropavlovsk-kamchatskiy\n",
      "Processing Record 42 of Set 11 | ladario\n",
      "Processing Record 43 of Set 11 | havoysund\n",
      "Processing Record 44 of Set 11 | fortuna\n",
      "Processing Record 45 of Set 11 | kibala\n",
      "Processing Record 46 of Set 11 | olinala\n",
      "Processing Record 47 of Set 11 | pacific grove\n",
      "Processing Record 48 of Set 11 | batagay\n",
      "Processing Record 49 of Set 11 | campos gerais\n",
      "Processing Record 50 of Set 11 | mahalapye\n",
      "Processing Record 1 of Set 12 | boyolangu\n",
      "Processing Record 2 of Set 12 | pathein\n",
      "Processing Record 3 of Set 12 | aswan\n",
      "Processing Record 4 of Set 12 | yabrud\n",
      "Processing Record 5 of Set 12 | basco\n",
      "Processing Record 6 of Set 12 | mnogovershinnyy\n",
      "Processing Record 7 of Set 12 | arvi\n",
      "Processing Record 8 of Set 12 | hami\n",
      "Processing Record 9 of Set 12 | bechem\n"
     ]
    },
    {
     "name": "stdout",
     "output_type": "stream",
     "text": [
      "Processing Record 10 of Set 12 | sirumugai\n",
      "Processing Record 11 of Set 12 | nguiu\n",
      "City 'nguiu' not found. Skipping...\n",
      "Processing Record 12 of Set 12 | nelson bay\n",
      "Processing Record 13 of Set 12 | houma\n",
      "Processing Record 14 of Set 12 | karaul\n",
      "City 'karaul' not found. Skipping...\n",
      "Processing Record 15 of Set 12 | bolshaya murta\n",
      "City 'bolshaya murta' not found. Skipping...\n",
      "Processing Record 16 of Set 12 | kjollefjord\n",
      "Processing Record 17 of Set 12 | hamilton\n",
      "Processing Record 18 of Set 12 | green valley\n",
      "Processing Record 19 of Set 12 | aflu\n",
      "City 'aflu' not found. Skipping...\n",
      "Processing Record 20 of Set 12 | santa lucia\n",
      "Processing Record 21 of Set 12 | ondorhaan\n",
      "City 'ondorhaan' not found. Skipping...\n",
      "Processing Record 22 of Set 12 | naduvattam\n",
      "Processing Record 23 of Set 12 | hualmay\n",
      "Processing Record 24 of Set 12 | verkhnevilyuysk\n",
      "Processing Record 25 of Set 12 | bo rai\n",
      "Processing Record 26 of Set 12 | dipkarpaz\n",
      "City 'dipkarpaz' not found. Skipping...\n",
      "Processing Record 27 of Set 12 | noumea\n",
      "Processing Record 28 of Set 12 | san lorenzo\n",
      "Processing Record 29 of Set 12 | chilmari\n",
      "Processing Record 30 of Set 12 | lebork\n",
      "Processing Record 31 of Set 12 | galgani\n",
      "City 'galgani' not found. Skipping...\n",
      "Processing Record 32 of Set 12 | malakal\n",
      "Processing Record 33 of Set 12 | atasu\n",
      "Processing Record 34 of Set 12 | birin\n",
      "Processing Record 35 of Set 12 | bedele\n",
      "Processing Record 36 of Set 12 | samana\n",
      "Processing Record 37 of Set 12 | pechenga\n",
      "Processing Record 38 of Set 12 | bonavista\n",
      "Processing Record 39 of Set 12 | andselv\n",
      "City 'andselv' not found. Skipping...\n",
      "Processing Record 40 of Set 12 | pringsewu\n",
      "Processing Record 41 of Set 12 | wewak\n",
      "Processing Record 42 of Set 12 | ikere\n",
      "Processing Record 43 of Set 12 | dolores\n",
      "Processing Record 44 of Set 12 | port-gentil\n",
      "Processing Record 45 of Set 12 | porto belo\n",
      "Processing Record 46 of Set 12 | aasiaat\n",
      "Processing Record 47 of Set 12 | cerro largo\n",
      "Processing Record 48 of Set 12 | pisco\n",
      "Processing Record 49 of Set 12 | lima\n",
      "Processing Record 50 of Set 12 | mae hong son\n",
      "Processing Record 1 of Set 13 | pointe-noire\n",
      "Processing Record 2 of Set 13 | urulga\n",
      "City 'urulga' not found. Skipping...\n",
      "Processing Record 3 of Set 13 | fasa\n",
      "Processing Record 4 of Set 13 | ketchikan\n",
      "Processing Record 5 of Set 13 | scarborough\n",
      "Processing Record 6 of Set 13 | ardakan\n",
      "Processing Record 7 of Set 13 | bijar\n",
      "Processing Record 8 of Set 13 | esterhazy\n",
      "Processing Record 9 of Set 13 | luena\n",
      "Processing Record 10 of Set 13 | sinnamary\n",
      "Processing Record 11 of Set 13 | san jeronimo\n",
      "-----------------------------\n",
      "Data Retrieval Complete      \n",
      "-----------------------------\n"
     ]
    }
   ],
   "source": [
    "# Loop through all the cities in our list.\n",
    "for i, city in enumerate(cities):\n",
    "    \n",
    "    # Group cities in sets of 50 for logging purposes.\n",
    "    if (i % 50==0 and i>=50):\n",
    "        set_count+=1\n",
    "        record_count=1\n",
    "        \n",
    "    # Create emdpoint URL with each city.\n",
    "    city_url=url+\"&q=\"+city.replace(\" \",\"+\")\n",
    "    \n",
    "    # Log the URL, record, and set numbers and the city.\n",
    "    print(f\"Processing Record {record_count} of Set {set_count} | {city}\")\n",
    "    \n",
    "    # Add 1 to the record count.\n",
    "    record_count += 1\n",
    "    # Run an API request for each of the cities.\n",
    "    try:\n",
    "        # Parse the JSON and retrieve data.\n",
    "        city_weather = requests.get(city_url).json()\n",
    "        # Parse out the needed data.\n",
    "        city_lat = city_weather[\"coord\"][\"lat\"]\n",
    "        city_lng = city_weather[\"coord\"][\"lon\"]\n",
    "        city_max_temp = city_weather[\"main\"][\"temp_max\"]\n",
    "        city_humidity = city_weather[\"main\"][\"humidity\"]\n",
    "        city_clouds = city_weather[\"clouds\"][\"all\"]\n",
    "        city_wind = city_weather[\"wind\"][\"speed\"]\n",
    "        city_country = city_weather[\"sys\"][\"country\"]\n",
    "        # Convert the date to ISO standard.\n",
    "        city_date = datetime.utcfromtimestamp(city_weather[\"dt\"]).strftime('%Y-%m-%d %H:%M:%S')\n",
    "        # Append the city information into city_data list.\n",
    "        city_data.append({\"City\": city.title(),\n",
    "                          \"Lat\": city_lat,\n",
    "                          \"Lng\": city_lng,\n",
    "                          \"Max Temp\": city_max_temp,\n",
    "                          \"Humidity\": city_humidity,\n",
    "                          \"Cloudiness\": city_clouds,\n",
    "                          \"Wind Speed\": city_wind,\n",
    "                          \"Country\": city_country,\n",
    "                          \"Date\": city_date})\n",
    "\n",
    "# If an error is experienced, skip the city.\n",
    "    except:\n",
    "        print(f\"City '{city}' not found. Skipping...\")\n",
    "        pass\n",
    "        #raise\n",
    "\n",
    "# Indicate that Data Loading is complete.\n",
    "print(\"-----------------------------\")\n",
    "print(\"Data Retrieval Complete      \")\n",
    "print(\"-----------------------------\")\n",
    "    "
   ]
  },
  {
   "cell_type": "code",
   "execution_count": 18,
   "metadata": {},
   "outputs": [
    {
     "data": {
      "text/plain": [
       "563"
      ]
     },
     "execution_count": 18,
     "metadata": {},
     "output_type": "execute_result"
    }
   ],
   "source": [
    "len(city_data)"
   ]
  },
  {
   "cell_type": "code",
   "execution_count": 19,
   "metadata": {},
   "outputs": [
    {
     "data": {
      "text/html": [
       "<div>\n",
       "<style scoped>\n",
       "    .dataframe tbody tr th:only-of-type {\n",
       "        vertical-align: middle;\n",
       "    }\n",
       "\n",
       "    .dataframe tbody tr th {\n",
       "        vertical-align: top;\n",
       "    }\n",
       "\n",
       "    .dataframe thead th {\n",
       "        text-align: right;\n",
       "    }\n",
       "</style>\n",
       "<table border=\"1\" class=\"dataframe\">\n",
       "  <thead>\n",
       "    <tr style=\"text-align: right;\">\n",
       "      <th></th>\n",
       "      <th>City</th>\n",
       "      <th>Lat</th>\n",
       "      <th>Lng</th>\n",
       "      <th>Max Temp</th>\n",
       "      <th>Humidity</th>\n",
       "      <th>Cloudiness</th>\n",
       "      <th>Wind Speed</th>\n",
       "      <th>Country</th>\n",
       "      <th>Date</th>\n",
       "    </tr>\n",
       "  </thead>\n",
       "  <tbody>\n",
       "    <tr>\n",
       "      <th>0</th>\n",
       "      <td>Upernavik</td>\n",
       "      <td>72.79</td>\n",
       "      <td>-56.15</td>\n",
       "      <td>36.28</td>\n",
       "      <td>91</td>\n",
       "      <td>1</td>\n",
       "      <td>6.38</td>\n",
       "      <td>GL</td>\n",
       "      <td>2020-06-26 04:43:07</td>\n",
       "    </tr>\n",
       "    <tr>\n",
       "      <th>1</th>\n",
       "      <td>Kita</td>\n",
       "      <td>13.03</td>\n",
       "      <td>-9.49</td>\n",
       "      <td>76.01</td>\n",
       "      <td>79</td>\n",
       "      <td>42</td>\n",
       "      <td>3.38</td>\n",
       "      <td>ML</td>\n",
       "      <td>2020-06-26 04:53:07</td>\n",
       "    </tr>\n",
       "    <tr>\n",
       "      <th>2</th>\n",
       "      <td>Cherskiy</td>\n",
       "      <td>68.75</td>\n",
       "      <td>161.30</td>\n",
       "      <td>44.58</td>\n",
       "      <td>60</td>\n",
       "      <td>17</td>\n",
       "      <td>26.06</td>\n",
       "      <td>RU</td>\n",
       "      <td>2020-06-26 04:43:08</td>\n",
       "    </tr>\n",
       "    <tr>\n",
       "      <th>3</th>\n",
       "      <td>Chuy</td>\n",
       "      <td>-33.70</td>\n",
       "      <td>-53.46</td>\n",
       "      <td>43.61</td>\n",
       "      <td>80</td>\n",
       "      <td>0</td>\n",
       "      <td>9.69</td>\n",
       "      <td>UY</td>\n",
       "      <td>2020-06-26 04:51:04</td>\n",
       "    </tr>\n",
       "    <tr>\n",
       "      <th>4</th>\n",
       "      <td>Luderitz</td>\n",
       "      <td>-26.65</td>\n",
       "      <td>15.16</td>\n",
       "      <td>55.40</td>\n",
       "      <td>93</td>\n",
       "      <td>67</td>\n",
       "      <td>3.36</td>\n",
       "      <td>NA</td>\n",
       "      <td>2020-06-26 04:43:14</td>\n",
       "    </tr>\n",
       "    <tr>\n",
       "      <th>5</th>\n",
       "      <td>Atuona</td>\n",
       "      <td>-9.80</td>\n",
       "      <td>-139.03</td>\n",
       "      <td>79.77</td>\n",
       "      <td>79</td>\n",
       "      <td>39</td>\n",
       "      <td>16.73</td>\n",
       "      <td>PF</td>\n",
       "      <td>2020-06-26 04:51:18</td>\n",
       "    </tr>\n",
       "    <tr>\n",
       "      <th>6</th>\n",
       "      <td>Karlovac</td>\n",
       "      <td>45.49</td>\n",
       "      <td>15.55</td>\n",
       "      <td>62.01</td>\n",
       "      <td>94</td>\n",
       "      <td>62</td>\n",
       "      <td>1.54</td>\n",
       "      <td>HR</td>\n",
       "      <td>2020-06-26 04:53:07</td>\n",
       "    </tr>\n",
       "    <tr>\n",
       "      <th>7</th>\n",
       "      <td>Hithadhoo</td>\n",
       "      <td>-0.60</td>\n",
       "      <td>73.08</td>\n",
       "      <td>84.72</td>\n",
       "      <td>71</td>\n",
       "      <td>68</td>\n",
       "      <td>8.41</td>\n",
       "      <td>MV</td>\n",
       "      <td>2020-06-26 04:53:07</td>\n",
       "    </tr>\n",
       "    <tr>\n",
       "      <th>8</th>\n",
       "      <td>Busselton</td>\n",
       "      <td>-33.65</td>\n",
       "      <td>115.33</td>\n",
       "      <td>60.01</td>\n",
       "      <td>70</td>\n",
       "      <td>9</td>\n",
       "      <td>20.98</td>\n",
       "      <td>AU</td>\n",
       "      <td>2020-06-26 04:50:01</td>\n",
       "    </tr>\n",
       "    <tr>\n",
       "      <th>9</th>\n",
       "      <td>Arraial Do Cabo</td>\n",
       "      <td>-22.97</td>\n",
       "      <td>-42.03</td>\n",
       "      <td>71.76</td>\n",
       "      <td>78</td>\n",
       "      <td>69</td>\n",
       "      <td>12.30</td>\n",
       "      <td>BR</td>\n",
       "      <td>2020-06-26 04:39:40</td>\n",
       "    </tr>\n",
       "  </tbody>\n",
       "</table>\n",
       "</div>"
      ],
      "text/plain": [
       "              City    Lat     Lng  Max Temp  Humidity  Cloudiness  Wind Speed  \\\n",
       "0        Upernavik  72.79  -56.15     36.28        91           1        6.38   \n",
       "1             Kita  13.03   -9.49     76.01        79          42        3.38   \n",
       "2         Cherskiy  68.75  161.30     44.58        60          17       26.06   \n",
       "3             Chuy -33.70  -53.46     43.61        80           0        9.69   \n",
       "4         Luderitz -26.65   15.16     55.40        93          67        3.36   \n",
       "5           Atuona  -9.80 -139.03     79.77        79          39       16.73   \n",
       "6         Karlovac  45.49   15.55     62.01        94          62        1.54   \n",
       "7        Hithadhoo  -0.60   73.08     84.72        71          68        8.41   \n",
       "8        Busselton -33.65  115.33     60.01        70           9       20.98   \n",
       "9  Arraial Do Cabo -22.97  -42.03     71.76        78          69       12.30   \n",
       "\n",
       "  Country                 Date  \n",
       "0      GL  2020-06-26 04:43:07  \n",
       "1      ML  2020-06-26 04:53:07  \n",
       "2      RU  2020-06-26 04:43:08  \n",
       "3      UY  2020-06-26 04:51:04  \n",
       "4      NA  2020-06-26 04:43:14  \n",
       "5      PF  2020-06-26 04:51:18  \n",
       "6      HR  2020-06-26 04:53:07  \n",
       "7      MV  2020-06-26 04:53:07  \n",
       "8      AU  2020-06-26 04:50:01  \n",
       "9      BR  2020-06-26 04:39:40  "
      ]
     },
     "execution_count": 19,
     "metadata": {},
     "output_type": "execute_result"
    }
   ],
   "source": [
    "# Convert the array of dictionaries to a Pandas DataFrame.\n",
    "city_data_df = pd.DataFrame(city_data)\n",
    "city_data_df.head(10)"
   ]
  },
  {
   "cell_type": "code",
   "execution_count": 20,
   "metadata": {},
   "outputs": [],
   "source": [
    "new_column_order=[\"City\",\"Country\",\"Date\",\"Lat\",\"Lng\",\"Max Temp\",\"Humidity\",\"Cloudiness\",\"Wind Speed\"]\n",
    "city_data_df=city_data_df[new_column_order]"
   ]
  },
  {
   "cell_type": "code",
   "execution_count": 21,
   "metadata": {},
   "outputs": [
    {
     "data": {
      "text/html": [
       "<div>\n",
       "<style scoped>\n",
       "    .dataframe tbody tr th:only-of-type {\n",
       "        vertical-align: middle;\n",
       "    }\n",
       "\n",
       "    .dataframe tbody tr th {\n",
       "        vertical-align: top;\n",
       "    }\n",
       "\n",
       "    .dataframe thead th {\n",
       "        text-align: right;\n",
       "    }\n",
       "</style>\n",
       "<table border=\"1\" class=\"dataframe\">\n",
       "  <thead>\n",
       "    <tr style=\"text-align: right;\">\n",
       "      <th></th>\n",
       "      <th>City</th>\n",
       "      <th>Country</th>\n",
       "      <th>Date</th>\n",
       "      <th>Lat</th>\n",
       "      <th>Lng</th>\n",
       "      <th>Max Temp</th>\n",
       "      <th>Humidity</th>\n",
       "      <th>Cloudiness</th>\n",
       "      <th>Wind Speed</th>\n",
       "    </tr>\n",
       "  </thead>\n",
       "  <tbody>\n",
       "    <tr>\n",
       "      <th>0</th>\n",
       "      <td>Upernavik</td>\n",
       "      <td>GL</td>\n",
       "      <td>2020-06-26 04:43:07</td>\n",
       "      <td>72.79</td>\n",
       "      <td>-56.15</td>\n",
       "      <td>36.28</td>\n",
       "      <td>91</td>\n",
       "      <td>1</td>\n",
       "      <td>6.38</td>\n",
       "    </tr>\n",
       "    <tr>\n",
       "      <th>1</th>\n",
       "      <td>Kita</td>\n",
       "      <td>ML</td>\n",
       "      <td>2020-06-26 04:53:07</td>\n",
       "      <td>13.03</td>\n",
       "      <td>-9.49</td>\n",
       "      <td>76.01</td>\n",
       "      <td>79</td>\n",
       "      <td>42</td>\n",
       "      <td>3.38</td>\n",
       "    </tr>\n",
       "    <tr>\n",
       "      <th>2</th>\n",
       "      <td>Cherskiy</td>\n",
       "      <td>RU</td>\n",
       "      <td>2020-06-26 04:43:08</td>\n",
       "      <td>68.75</td>\n",
       "      <td>161.30</td>\n",
       "      <td>44.58</td>\n",
       "      <td>60</td>\n",
       "      <td>17</td>\n",
       "      <td>26.06</td>\n",
       "    </tr>\n",
       "    <tr>\n",
       "      <th>3</th>\n",
       "      <td>Chuy</td>\n",
       "      <td>UY</td>\n",
       "      <td>2020-06-26 04:51:04</td>\n",
       "      <td>-33.70</td>\n",
       "      <td>-53.46</td>\n",
       "      <td>43.61</td>\n",
       "      <td>80</td>\n",
       "      <td>0</td>\n",
       "      <td>9.69</td>\n",
       "    </tr>\n",
       "    <tr>\n",
       "      <th>4</th>\n",
       "      <td>Luderitz</td>\n",
       "      <td>NA</td>\n",
       "      <td>2020-06-26 04:43:14</td>\n",
       "      <td>-26.65</td>\n",
       "      <td>15.16</td>\n",
       "      <td>55.40</td>\n",
       "      <td>93</td>\n",
       "      <td>67</td>\n",
       "      <td>3.36</td>\n",
       "    </tr>\n",
       "    <tr>\n",
       "      <th>5</th>\n",
       "      <td>Atuona</td>\n",
       "      <td>PF</td>\n",
       "      <td>2020-06-26 04:51:18</td>\n",
       "      <td>-9.80</td>\n",
       "      <td>-139.03</td>\n",
       "      <td>79.77</td>\n",
       "      <td>79</td>\n",
       "      <td>39</td>\n",
       "      <td>16.73</td>\n",
       "    </tr>\n",
       "    <tr>\n",
       "      <th>6</th>\n",
       "      <td>Karlovac</td>\n",
       "      <td>HR</td>\n",
       "      <td>2020-06-26 04:53:07</td>\n",
       "      <td>45.49</td>\n",
       "      <td>15.55</td>\n",
       "      <td>62.01</td>\n",
       "      <td>94</td>\n",
       "      <td>62</td>\n",
       "      <td>1.54</td>\n",
       "    </tr>\n",
       "    <tr>\n",
       "      <th>7</th>\n",
       "      <td>Hithadhoo</td>\n",
       "      <td>MV</td>\n",
       "      <td>2020-06-26 04:53:07</td>\n",
       "      <td>-0.60</td>\n",
       "      <td>73.08</td>\n",
       "      <td>84.72</td>\n",
       "      <td>71</td>\n",
       "      <td>68</td>\n",
       "      <td>8.41</td>\n",
       "    </tr>\n",
       "    <tr>\n",
       "      <th>8</th>\n",
       "      <td>Busselton</td>\n",
       "      <td>AU</td>\n",
       "      <td>2020-06-26 04:50:01</td>\n",
       "      <td>-33.65</td>\n",
       "      <td>115.33</td>\n",
       "      <td>60.01</td>\n",
       "      <td>70</td>\n",
       "      <td>9</td>\n",
       "      <td>20.98</td>\n",
       "    </tr>\n",
       "    <tr>\n",
       "      <th>9</th>\n",
       "      <td>Arraial Do Cabo</td>\n",
       "      <td>BR</td>\n",
       "      <td>2020-06-26 04:39:40</td>\n",
       "      <td>-22.97</td>\n",
       "      <td>-42.03</td>\n",
       "      <td>71.76</td>\n",
       "      <td>78</td>\n",
       "      <td>69</td>\n",
       "      <td>12.30</td>\n",
       "    </tr>\n",
       "  </tbody>\n",
       "</table>\n",
       "</div>"
      ],
      "text/plain": [
       "              City Country                 Date    Lat     Lng  Max Temp  \\\n",
       "0        Upernavik      GL  2020-06-26 04:43:07  72.79  -56.15     36.28   \n",
       "1             Kita      ML  2020-06-26 04:53:07  13.03   -9.49     76.01   \n",
       "2         Cherskiy      RU  2020-06-26 04:43:08  68.75  161.30     44.58   \n",
       "3             Chuy      UY  2020-06-26 04:51:04 -33.70  -53.46     43.61   \n",
       "4         Luderitz      NA  2020-06-26 04:43:14 -26.65   15.16     55.40   \n",
       "5           Atuona      PF  2020-06-26 04:51:18  -9.80 -139.03     79.77   \n",
       "6         Karlovac      HR  2020-06-26 04:53:07  45.49   15.55     62.01   \n",
       "7        Hithadhoo      MV  2020-06-26 04:53:07  -0.60   73.08     84.72   \n",
       "8        Busselton      AU  2020-06-26 04:50:01 -33.65  115.33     60.01   \n",
       "9  Arraial Do Cabo      BR  2020-06-26 04:39:40 -22.97  -42.03     71.76   \n",
       "\n",
       "   Humidity  Cloudiness  Wind Speed  \n",
       "0        91           1        6.38  \n",
       "1        79          42        3.38  \n",
       "2        60          17       26.06  \n",
       "3        80           0        9.69  \n",
       "4        93          67        3.36  \n",
       "5        79          39       16.73  \n",
       "6        94          62        1.54  \n",
       "7        71          68        8.41  \n",
       "8        70           9       20.98  \n",
       "9        78          69       12.30  "
      ]
     },
     "execution_count": 21,
     "metadata": {},
     "output_type": "execute_result"
    }
   ],
   "source": [
    "city_data_df.head(10)"
   ]
  },
  {
   "cell_type": "code",
   "execution_count": 22,
   "metadata": {},
   "outputs": [],
   "source": [
    "# Create the output file (CSV).\n",
    "output_data_file = \"weather_data/cities.csv\"\n",
    "# Export the City_Data into a CSV.\n",
    "city_data_df.to_csv(output_data_file, index_label=\"City_ID\")"
   ]
  },
  {
   "cell_type": "code",
   "execution_count": 23,
   "metadata": {},
   "outputs": [],
   "source": [
    "# Extract relevant fields from the DataFrame for plotting.\n",
    "lats=city_data_df[\"Lat\"]\n",
    "max_temps=city_data_df[\"Max Temp\"]\n",
    "humidity=city_data_df[\"Humidity\"]\n",
    "cloudiness=city_data_df[\"Cloudiness\"]\n",
    "wind_speed=city_data_df[\"Wind Speed\"]\n"
   ]
  },
  {
   "cell_type": "code",
   "execution_count": 24,
   "metadata": {},
   "outputs": [
    {
     "data": {
      "text/plain": [
       "1593147227.618519"
      ]
     },
     "execution_count": 24,
     "metadata": {},
     "output_type": "execute_result"
    }
   ],
   "source": [
    "# Import the time module.\n",
    "import time\n",
    "# Get today's date in seconds.\n",
    "today = time.time()\n",
    "today"
   ]
  },
  {
   "cell_type": "code",
   "execution_count": 25,
   "metadata": {},
   "outputs": [
    {
     "data": {
      "image/png": "[encoded data removed]",
      "text/plain": [
       "<Figure size 432x288 with 1 Axes>"
      ]
     },
     "metadata": {
      "needs_background": "light"
     },
     "output_type": "display_data"
    }
   ],
   "source": [
    "# Build the scatter plot for latitude vs. max temperature.\n",
    "plt.scatter(lats,\n",
    "            max_temps,\n",
    "            edgecolor=\"black\", linewidths=1, marker=\"o\",\n",
    "            alpha=0.8, label=\"Cities\")\n",
    "\n",
    "# Incorporate the other graph properties.\n",
    "plt.title(f\"City Latitude vs. Max Temperature \"+ time.strftime(\"%x\"))\n",
    "plt.ylabel(\"Max Temperature (F)\")\n",
    "plt.xlabel(\"Latitude\")\n",
    "plt.grid(True)\n",
    "\n",
    "# Save the figure.\n",
    "plt.savefig(\"weather_data/Fig1.png\")\n",
    "\n",
    "# Show plot.\n",
    "plt.show()"
   ]
  },
  {
   "cell_type": "code",
   "execution_count": 26,
   "metadata": {},
   "outputs": [
    {
     "data": {
      "image/png": "[encoded data removed]",
      "text/plain": [
       "<Figure size 432x288 with 1 Axes>"
      ]
     },
     "metadata": {
      "needs_background": "light"
     },
     "output_type": "display_data"
    }
   ],
   "source": [
    "# Build the scatter plots for latitude vs. humidity.\n",
    "plt.scatter(lats,\n",
    "            humidity,\n",
    "            edgecolor=\"black\", linewidths=1, marker=\"o\",\n",
    "            alpha=0.8, label=\"Cities\")\n",
    "\n",
    "# Incorporate the other graph properties.\n",
    "plt.title(f\"City Latitude vs. Humidity \"+ time.strftime(\"%x\"))\n",
    "plt.ylabel(\"Humidity (%)\")\n",
    "plt.xlabel(\"Latitude\")\n",
    "plt.grid(True)\n",
    "# Save the figure.\n",
    "plt.savefig(\"weather_data/Fig2.png\")\n",
    "# Show plot.\n",
    "plt.show()"
   ]
  },
  {
   "cell_type": "code",
   "execution_count": 27,
   "metadata": {},
   "outputs": [
    {
     "data": {
      "image/png": "[encoded data removed]",
      "text/plain": [
       "<Figure size 432x288 with 1 Axes>"
      ]
     },
     "metadata": {
      "needs_background": "light"
     },
     "output_type": "display_data"
    }
   ],
   "source": [
    "# Build the scatter plots for latitude vs. cloudiness.\n",
    "plt.scatter(lats,\n",
    "            cloudiness,\n",
    "            edgecolor=\"black\", linewidths=1, marker=\"o\",\n",
    "            alpha=0.8, label=\"Cities\")\n",
    "\n",
    "# Incorporate the other graph properties.\n",
    "plt.title(f\"City Latitude vs. Cloudiness (%) \"+ time.strftime(\"%x\"))\n",
    "plt.ylabel(\"Cloudiness (%)\")\n",
    "plt.xlabel(\"Latitude\")\n",
    "plt.grid(True)\n",
    "# Save the figure.\n",
    "plt.savefig(\"weather_data/Fig3.png\")\n",
    "# Show plot.\n",
    "plt.show()"
   ]
  },
  {
   "cell_type": "code",
   "execution_count": 28,
   "metadata": {},
   "outputs": [
    {
     "data": {
      "image/png": "[encoded data removed]",
      "text/plain": [
       "<Figure size 432x288 with 1 Axes>"
      ]
     },
     "metadata": {
      "needs_background": "light"
     },
     "output_type": "display_data"
    }
   ],
   "source": [
    "# Build the scatter plots for latitude vs. wind speed.\n",
    "plt.scatter(lats,\n",
    "            wind_speed,\n",
    "            edgecolor=\"black\", linewidths=1, marker=\"o\",\n",
    "            alpha=0.8, label=\"Cities\")\n",
    "\n",
    "# Incorporate the other graph properties.\n",
    "plt.title(f\"City Latitude vs. Wind Speed \"+ time.strftime(\"%x\"))\n",
    "plt.ylabel(\"Wind Speed (mph)\")\n",
    "plt.xlabel(\"Latitude\")\n",
    "plt.grid(True)\n",
    "# Save the figure.\n",
    "plt.savefig(\"weather_data/Fig4.png\")\n",
    "# Show plot.\n",
    "plt.show()"
   ]
  },
  {
   "cell_type": "code",
   "execution_count": 29,
   "metadata": {},
   "outputs": [],
   "source": [
    "# Calculate the regression line \"y values\" from the slope and intercept.\n",
    "(slope,intercept,r_value,p_value,std_err)=linregress(lats, max_temps)\n",
    "regress_values = [(lat * slope + intercept) for lat in lats]\n"
   ]
  },
  {
   "cell_type": "code",
   "execution_count": 30,
   "metadata": {},
   "outputs": [],
   "source": [
    "# Create a function to create perform linear regression on the weather data\n",
    "# and plot a regression line and the equation with the data.  \n",
    "def plot_linear_regression(x_values, y_values, title, y_label, text_coordinates):\n",
    "    \n",
    "    # Run regression on hemisphere weather data.\n",
    "    (slope, intercept, r_value, p_value, std_err) = linregress(x_values, y_values)\n",
    "    \n",
    "    # Calculate the regression line \"y values\" from the slope and intercept.\n",
    "    regress_values = x_values * slope + intercept\n",
    "    # Get the equation of the line.\n",
    "    line_eq = \"y = \" + str(round(slope,2)) + \"x + \" + str(round(intercept,2))\n",
    "    # Create a scatter plot and plot the regression line.\n",
    "    plt.scatter(x_values,y_values)\n",
    "    plt.plot(x_values,regress_values,\"r\")\n",
    "    # Annotate the text for the line equation.\n",
    "    plt.annotate(line_eq, text_coordinates, fontsize=15, color=\"red\")\n",
    "    plt.xlabel('Latitude')\n",
    "    plt.ylabel(y_label)\n",
    "    plt.title(title)\n",
    "    plt.show()\n",
    "    print(f\"The R-value is: {r_value:.3f}\")"
   ]
  },
  {
   "cell_type": "code",
   "execution_count": 31,
   "metadata": {},
   "outputs": [
    {
     "data": {
      "text/plain": [
       "City                       Faanui\n",
       "Country                        PF\n",
       "Date          2020-06-26 04:53:07\n",
       "Lat                        -16.48\n",
       "Lng                       -151.75\n",
       "Max Temp                    78.46\n",
       "Humidity                       75\n",
       "Cloudiness                     55\n",
       "Wind Speed                   11.5\n",
       "Name: 13, dtype: object"
      ]
     },
     "execution_count": 31,
     "metadata": {},
     "output_type": "execute_result"
    }
   ],
   "source": [
    "index13=city_data_df.loc[13]\n",
    "index13"
   ]
  },
  {
   "cell_type": "code",
   "execution_count": 32,
   "metadata": {},
   "outputs": [],
   "source": [
    "# Create Northern and Southern Hemisphere DataFrames.\n",
    "northern_hemi_df = city_data_df.loc[(city_data_df[\"Lat\"]>=0)]\n",
    "southern_hemi_df = city_data_df.loc[(city_data_df[\"Lat\"] < 0)]"
   ]
  },
  {
   "cell_type": "code",
   "execution_count": 33,
   "metadata": {},
   "outputs": [
    {
     "data": {
      "image/png": "[encoded data removed]",
      "text/plain": [
       "<Figure size 432x288 with 1 Axes>"
      ]
     },
     "metadata": {
      "needs_background": "light"
     },
     "output_type": "display_data"
    },
    {
     "name": "stdout",
     "output_type": "stream",
     "text": [
      "The R-value is: -0.656\n"
     ]
    }
   ],
   "source": [
    "# Linear regression on the Northern Hemisphere\n",
    "x_values = northern_hemi_df[\"Lat\"]\n",
    "y_values = northern_hemi_df[\"Max Temp\"]\n",
    "# Call the function.\n",
    "plot_linear_regression(\n",
    "    x_values, \n",
    "    y_values,\n",
    "    title='Linear Regression on the Northern Hemisphere \\n for Maximum Temperature', \n",
    "    y_label='Max Temp',\n",
    "    text_coordinates=(5,40))\n",
    "\n"
   ]
  },
  {
   "cell_type": "code",
   "execution_count": 34,
   "metadata": {},
   "outputs": [
    {
     "data": {
      "image/png": "[encoded data removed]",
      "text/plain": [
       "<Figure size 432x288 with 1 Axes>"
      ]
     },
     "metadata": {
      "needs_background": "light"
     },
     "output_type": "display_data"
    },
    {
     "name": "stdout",
     "output_type": "stream",
     "text": [
      "The R-value is: 0.781\n"
     ]
    }
   ],
   "source": [
    "# Linear regression on the Southern Hemisphere\n",
    "x_values = southern_hemi_df[\"Lat\"]\n",
    "y_values = southern_hemi_df[\"Max Temp\"]\n",
    "# Call the function.\n",
    "plot_linear_regression(\n",
    "    x_values, \n",
    "    y_values,\n",
    "    title='Linear Regression on the Southern Hemisphere \\n for Maximum Temperature', \n",
    "    y_label='Max Temp',\n",
    "    text_coordinates=(-50,80))\n",
    "\n",
    "\n"
   ]
  },
  {
   "cell_type": "code",
   "execution_count": 35,
   "metadata": {},
   "outputs": [
    {
     "data": {
      "image/png": "[encoded data removed]",
      "text/plain": [
       "<Figure size 432x288 with 1 Axes>"
      ]
     },
     "metadata": {
      "needs_background": "light"
     },
     "output_type": "display_data"
    },
    {
     "name": "stdout",
     "output_type": "stream",
     "text": [
      "The R-value is: -0.089\n"
     ]
    }
   ],
   "source": [
    "# Linear regression on the Northern Hemisphere\n",
    "x_values = northern_hemi_df[\"Lat\"]\n",
    "y_values = northern_hemi_df[\"Humidity\"]\n",
    "# Call the function.\n",
    "plot_linear_regression(\n",
    "    x_values, \n",
    "    y_values,\n",
    "    title='Linear Regression on the Northern Hemisphere \\n for Humidity', \n",
    "    y_label='Humidity',\n",
    "    text_coordinates=(1,3))\n",
    "\n",
    "\n"
   ]
  },
  {
   "cell_type": "code",
   "execution_count": 36,
   "metadata": {},
   "outputs": [
    {
     "data": {
      "image/png": "[encoded data removed]",
      "text/plain": [
       "<Figure size 432x288 with 1 Axes>"
      ]
     },
     "metadata": {
      "needs_background": "light"
     },
     "output_type": "display_data"
    },
    {
     "name": "stdout",
     "output_type": "stream",
     "text": [
      "The R-value is: -0.054\n"
     ]
    }
   ],
   "source": [
    "# Linear regression on the Southern Hemisphere\n",
    "x_values = southern_hemi_df[\"Lat\"]\n",
    "y_values = southern_hemi_df[\"Humidity\"]\n",
    "# Call the function.\n",
    "plot_linear_regression(\n",
    "    x_values, \n",
    "    y_values,\n",
    "    title='Linear Regression on the Southern Hemisphere \\n for Humidity', \n",
    "    y_label='Humidity',\n",
    "    text_coordinates=(-50,15))\n"
   ]
  },
  {
   "cell_type": "code",
   "execution_count": 37,
   "metadata": {},
   "outputs": [
    {
     "data": {
      "image/png": "[encoded data removed]",
      "text/plain": [
       "<Figure size 432x288 with 1 Axes>"
      ]
     },
     "metadata": {
      "needs_background": "light"
     },
     "output_type": "display_data"
    },
    {
     "name": "stdout",
     "output_type": "stream",
     "text": [
      "The R-value is: -0.040\n"
     ]
    }
   ],
   "source": [
    "# Linear regression on the Northern Hemisphere\n",
    "x_values = northern_hemi_df[\"Lat\"]\n",
    "y_values = northern_hemi_df[\"Cloudiness\"]\n",
    "# Call the function.\n",
    "plot_linear_regression(\n",
    "    x_values, \n",
    "    y_values,\n",
    "    title='Linear Regression on the Northern Hemisphere \\n for Cloudiness', \n",
    "    y_label='Cloudiness',\n",
    "    text_coordinates=(22,55))\n",
    "\n"
   ]
  },
  {
   "cell_type": "code",
   "execution_count": 38,
   "metadata": {},
   "outputs": [
    {
     "data": {
      "image/png": "[encoded data removed]",
      "text/plain": [
       "<Figure size 432x288 with 1 Axes>"
      ]
     },
     "metadata": {
      "needs_background": "light"
     },
     "output_type": "display_data"
    },
    {
     "name": "stdout",
     "output_type": "stream",
     "text": [
      "The R-value is: -0.041\n"
     ]
    }
   ],
   "source": [
    "# Linear regression on the Southern Hemisphere\n",
    "x_values = southern_hemi_df[\"Lat\"]\n",
    "y_values = southern_hemi_df[\"Cloudiness\"]\n",
    "# Call the function.\n",
    "plot_linear_regression(\n",
    "    x_values, \n",
    "    y_values,\n",
    "    title='Linear Regression on the Southern Hemisphere \\n for Cloudiness', \n",
    "    y_label='Cloudiness',\n",
    "    text_coordinates=(-50,15))\n",
    "\n"
   ]
  },
  {
   "cell_type": "code",
   "execution_count": 39,
   "metadata": {},
   "outputs": [
    {
     "data": {
      "image/png": "[encoded data removed]",
      "text/plain": [
       "<Figure size 432x288 with 1 Axes>"
      ]
     },
     "metadata": {
      "needs_background": "light"
     },
     "output_type": "display_data"
    },
    {
     "name": "stdout",
     "output_type": "stream",
     "text": [
      "The R-value is: 0.158\n"
     ]
    }
   ],
   "source": [
    "# Linear regression on the Northern Hemisphere\n",
    "x_values = northern_hemi_df[\"Lat\"]\n",
    "y_values = northern_hemi_df[\"Wind Speed\"]\n",
    "# Call the function.\n",
    "plot_linear_regression(\n",
    "    x_values, \n",
    "    y_values,\n",
    "    title='Linear Regression on the Northern Hemisphere \\n for Wind Speed', \n",
    "    y_label='Wind Speed',\n",
    "    text_coordinates=(25,22))"
   ]
  },
  {
   "cell_type": "code",
   "execution_count": 40,
   "metadata": {},
   "outputs": [
    {
     "data": {
      "image/png": "[encoded data removed]",
      "text/plain": [
       "<Figure size 432x288 with 1 Axes>"
      ]
     },
     "metadata": {
      "needs_background": "light"
     },
     "output_type": "display_data"
    },
    {
     "name": "stdout",
     "output_type": "stream",
     "text": [
      "The R-value is: -0.033\n"
     ]
    }
   ],
   "source": [
    "# Linear regression on the Southern Hemisphere\n",
    "x_values = southern_hemi_df[\"Lat\"]\n",
    "y_values = southern_hemi_df[\"Wind Speed\"]\n",
    "# Call the function.\n",
    "plot_linear_regression(\n",
    "    x_values, \n",
    "    y_values,\n",
    "    title='Linear Regression on the Southern Hemisphere \\n for Wind Speed', \n",
    "    y_label='Wind Speed',\n",
    "    text_coordinates=(-40,20))"
   ]
  },
  {
   "cell_type": "code",
   "execution_count": 41,
   "metadata": {},
   "outputs": [
    {
     "data": {
      "text/html": [
       "<div>\n",
       "<style scoped>\n",
       "    .dataframe tbody tr th:only-of-type {\n",
       "        vertical-align: middle;\n",
       "    }\n",
       "\n",
       "    .dataframe tbody tr th {\n",
       "        vertical-align: top;\n",
       "    }\n",
       "\n",
       "    .dataframe thead th {\n",
       "        text-align: right;\n",
       "    }\n",
       "</style>\n",
       "<table border=\"1\" class=\"dataframe\">\n",
       "  <thead>\n",
       "    <tr style=\"text-align: right;\">\n",
       "      <th></th>\n",
       "      <th>City_ID</th>\n",
       "      <th>City</th>\n",
       "      <th>Country</th>\n",
       "      <th>Date</th>\n",
       "      <th>Lat</th>\n",
       "      <th>Lng</th>\n",
       "      <th>Max Temp</th>\n",
       "      <th>Humidity</th>\n",
       "      <th>Cloudiness</th>\n",
       "      <th>Wind Speed</th>\n",
       "    </tr>\n",
       "  </thead>\n",
       "  <tbody>\n",
       "    <tr>\n",
       "      <th>0</th>\n",
       "      <td>0</td>\n",
       "      <td>Upernavik</td>\n",
       "      <td>GL</td>\n",
       "      <td>2020-06-26 04:43:07</td>\n",
       "      <td>72.79</td>\n",
       "      <td>-56.15</td>\n",
       "      <td>36.28</td>\n",
       "      <td>91</td>\n",
       "      <td>1</td>\n",
       "      <td>6.38</td>\n",
       "    </tr>\n",
       "    <tr>\n",
       "      <th>1</th>\n",
       "      <td>1</td>\n",
       "      <td>Kita</td>\n",
       "      <td>ML</td>\n",
       "      <td>2020-06-26 04:53:07</td>\n",
       "      <td>13.03</td>\n",
       "      <td>-9.49</td>\n",
       "      <td>76.01</td>\n",
       "      <td>79</td>\n",
       "      <td>42</td>\n",
       "      <td>3.38</td>\n",
       "    </tr>\n",
       "    <tr>\n",
       "      <th>2</th>\n",
       "      <td>2</td>\n",
       "      <td>Cherskiy</td>\n",
       "      <td>RU</td>\n",
       "      <td>2020-06-26 04:43:08</td>\n",
       "      <td>68.75</td>\n",
       "      <td>161.30</td>\n",
       "      <td>44.58</td>\n",
       "      <td>60</td>\n",
       "      <td>17</td>\n",
       "      <td>26.06</td>\n",
       "    </tr>\n",
       "    <tr>\n",
       "      <th>3</th>\n",
       "      <td>3</td>\n",
       "      <td>Chuy</td>\n",
       "      <td>UY</td>\n",
       "      <td>2020-06-26 04:51:04</td>\n",
       "      <td>-33.70</td>\n",
       "      <td>-53.46</td>\n",
       "      <td>43.61</td>\n",
       "      <td>80</td>\n",
       "      <td>0</td>\n",
       "      <td>9.69</td>\n",
       "    </tr>\n",
       "    <tr>\n",
       "      <th>4</th>\n",
       "      <td>4</td>\n",
       "      <td>Luderitz</td>\n",
       "      <td>NaN</td>\n",
       "      <td>2020-06-26 04:43:14</td>\n",
       "      <td>-26.65</td>\n",
       "      <td>15.16</td>\n",
       "      <td>55.40</td>\n",
       "      <td>93</td>\n",
       "      <td>67</td>\n",
       "      <td>3.36</td>\n",
       "    </tr>\n",
       "  </tbody>\n",
       "</table>\n",
       "</div>"
      ],
      "text/plain": [
       "   City_ID       City Country                 Date    Lat     Lng  Max Temp  \\\n",
       "0        0  Upernavik      GL  2020-06-26 04:43:07  72.79  -56.15     36.28   \n",
       "1        1       Kita      ML  2020-06-26 04:53:07  13.03   -9.49     76.01   \n",
       "2        2   Cherskiy      RU  2020-06-26 04:43:08  68.75  161.30     44.58   \n",
       "3        3       Chuy      UY  2020-06-26 04:51:04 -33.70  -53.46     43.61   \n",
       "4        4   Luderitz     NaN  2020-06-26 04:43:14 -26.65   15.16     55.40   \n",
       "\n",
       "   Humidity  Cloudiness  Wind Speed  \n",
       "0        91           1        6.38  \n",
       "1        79          42        3.38  \n",
       "2        60          17       26.06  \n",
       "3        80           0        9.69  \n",
       "4        93          67        3.36  "
      ]
     },
     "execution_count": 41,
     "metadata": {},
     "output_type": "execute_result"
    }
   ],
   "source": [
    "# Store the CSV you saved created in part one into a DataFrame.\n",
    "city_data_df = pd.read_csv(\"weather_data/cities.csv\")\n",
    "city_data_df.head()"
   ]
  },
  {
   "cell_type": "code",
   "execution_count": 42,
   "metadata": {},
   "outputs": [
    {
     "data": {
      "text/plain": [
       "City_ID         int64\n",
       "City           object\n",
       "Country        object\n",
       "Date           object\n",
       "Lat           float64\n",
       "Lng           float64\n",
       "Max Temp      float64\n",
       "Humidity        int64\n",
       "Cloudiness      int64\n",
       "Wind Speed    float64\n",
       "dtype: object"
      ]
     },
     "execution_count": 42,
     "metadata": {},
     "output_type": "execute_result"
    }
   ],
   "source": [
    "city_data_df.dtypes"
   ]
  },
  {
   "cell_type": "code",
   "execution_count": 43,
   "metadata": {},
   "outputs": [],
   "source": [
    "# Configure gmaps to use your Google API key.\n",
    "gmaps.configure(api_key=gkey)"
   ]
  },
  {
   "cell_type": "code",
   "execution_count": 44,
   "metadata": {},
   "outputs": [
    {
     "data": {
      "application/vnd.jupyter.widget-view+json": {
       "model_id": "1a1a5493cb63487196acc335bc401052",
       "version_major": 2,
       "version_minor": 0
      },
      "text/plain": [
       "Figure(layout=FigureLayout(height='420px'))"
      ]
     },
     "metadata": {},
     "output_type": "display_data"
    }
   ],
   "source": [
    "# Heatmap of temperature\n",
    "# 1. Assign the locations to an array of latitude and longitude pairs.\n",
    "# Get the latitude and longitude.\n",
    "locations = city_data_df[[\"Lat\",\"Lng\"]]\n",
    "\n",
    "# 2. Assign the weights variable to some values. \n",
    "# Get the maximum temperature.\n",
    "max_temp = city_data_df[\"Max Temp\"]\n",
    "temps = []\n",
    "for temp in max_temp:\n",
    "    temps.append(max(temp, 0))\n",
    "# 3. Assign the figure variable to the gmaps.figure() attribute.\n",
    "fig = gmaps.figure()\n",
    "\n",
    "# 4. Assign the heatmap_layer variable to the heatmap_layer attribute and add in the locations.\n",
    "# Assign the heatmap variable.\n",
    "heat_layer = gmaps.heatmap_layer(locations, weights=temps, dissipating=False, max_intensity=300, point_radius=4)\n",
    "\n",
    "# 5. Add the heatmap layer.\n",
    "fig = gmaps.figure(center=(30.0, 31.0), zoom_level=1.5)\n",
    "fig.add_layer(heat_layer)\n",
    "\n",
    "# 6. Call the figure to plot the data.\n",
    "fig"
   ]
  },
  {
   "cell_type": "code",
   "execution_count": 45,
   "metadata": {},
   "outputs": [
    {
     "data": {
      "application/vnd.jupyter.widget-view+json": {
       "model_id": "6675087b6728491dbb9a2321eca2b0d1",
       "version_major": 2,
       "version_minor": 0
      },
      "text/plain": [
       "Figure(layout=FigureLayout(height='420px'))"
      ]
     },
     "metadata": {},
     "output_type": "display_data"
    }
   ],
   "source": [
    "# Heatmap of percent humidity\n",
    "locations = city_data_df[[\"Lat\", \"Lng\"]]\n",
    "humidity = city_data_df[\"Humidity\"]\n",
    "fig = gmaps.figure(center=(30.0, 31.0), zoom_level=1.5)\n",
    "heat_layer = gmaps.heatmap_layer(locations, weights=humidity, dissipating=False, max_intensity=300, point_radius=4)\n",
    "\n",
    "fig.add_layer(heat_layer)\n",
    "# Call the figure to plot the data.\n",
    "fig"
   ]
  },
  {
   "cell_type": "code",
   "execution_count": 46,
   "metadata": {},
   "outputs": [
    {
     "data": {
      "application/vnd.jupyter.widget-view+json": {
       "model_id": "2bc68deee5e6472a947148adbdaa3ec0",
       "version_major": 2,
       "version_minor": 0
      },
      "text/plain": [
       "Figure(layout=FigureLayout(height='420px'))"
      ]
     },
     "metadata": {},
     "output_type": "display_data"
    }
   ],
   "source": [
    "# Heatmap of percent cloudiness\n",
    "locations = city_data_df[[\"Lat\", \"Lng\"]]\n",
    "clouds = city_data_df[\"Cloudiness\"]\n",
    "fig = gmaps.figure(center=(30.0, 31.0), zoom_level=1.5)\n",
    "heat_layer = gmaps.heatmap_layer(locations, weights=clouds, dissipating=False, max_intensity=300, point_radius=4)\n",
    "\n",
    "fig.add_layer(heat_layer)\n",
    "# Call the figure to plot the data.\n",
    "fig"
   ]
  },
  {
   "cell_type": "code",
   "execution_count": 47,
   "metadata": {},
   "outputs": [],
   "source": [
    "# Heatmap of wind speed:"
   ]
  },
  {
   "cell_type": "code",
   "execution_count": 48,
   "metadata": {},
   "outputs": [
    {
     "data": {
      "application/vnd.jupyter.widget-view+json": {
       "model_id": "163de4370a994c479454143a978bc990",
       "version_major": 2,
       "version_minor": 0
      },
      "text/plain": [
       "Figure(layout=FigureLayout(height='420px'))"
      ]
     },
     "metadata": {},
     "output_type": "display_data"
    }
   ],
   "source": [
    "locations = city_data_df[[\"Lat\", \"Lng\"]]\n",
    "winds = city_data_df[\"Wind Speed\"]\n",
    "fig = gmaps.figure(center=(30.0, 31.0), zoom_level=1.5)\n",
    "heat_layer = gmaps.heatmap_layer(locations, weights=winds, dissipating=False, max_intensity=300, point_radius=4)\n",
    "\n",
    "fig.add_layer(heat_layer)\n",
    "# Call the figure to plot the data.\n",
    "fig"
   ]
  },
  {
   "cell_type": "code",
   "execution_count": 49,
   "metadata": {},
   "outputs": [
    {
     "name": "stdout",
     "output_type": "stream",
     "text": [
      "What is the minimum temperature you would like for your trip? 65\n",
      "What is the maximum temperature you would like for your trip? 75\n"
     ]
    }
   ],
   "source": [
    "# Ask the customer to add a minimum and maximum temperature value.\n",
    "min_temp = float(input(\"What is the minimum temperature you would like for your trip? \"))\n",
    "max_temp = float(input(\"What is the maximum temperature you would like for your trip? \"))"
   ]
  },
  {
   "cell_type": "code",
   "execution_count": 50,
   "metadata": {},
   "outputs": [
    {
     "data": {
      "text/html": [
       "<div>\n",
       "<style scoped>\n",
       "    .dataframe tbody tr th:only-of-type {\n",
       "        vertical-align: middle;\n",
       "    }\n",
       "\n",
       "    .dataframe tbody tr th {\n",
       "        vertical-align: top;\n",
       "    }\n",
       "\n",
       "    .dataframe thead th {\n",
       "        text-align: right;\n",
       "    }\n",
       "</style>\n",
       "<table border=\"1\" class=\"dataframe\">\n",
       "  <thead>\n",
       "    <tr style=\"text-align: right;\">\n",
       "      <th></th>\n",
       "      <th>City_ID</th>\n",
       "      <th>City</th>\n",
       "      <th>Country</th>\n",
       "      <th>Date</th>\n",
       "      <th>Lat</th>\n",
       "      <th>Lng</th>\n",
       "      <th>Max Temp</th>\n",
       "      <th>Humidity</th>\n",
       "      <th>Cloudiness</th>\n",
       "      <th>Wind Speed</th>\n",
       "    </tr>\n",
       "  </thead>\n",
       "  <tbody>\n",
       "    <tr>\n",
       "      <th>9</th>\n",
       "      <td>9</td>\n",
       "      <td>Arraial Do Cabo</td>\n",
       "      <td>BR</td>\n",
       "      <td>2020-06-26 04:39:40</td>\n",
       "      <td>-22.97</td>\n",
       "      <td>-42.03</td>\n",
       "      <td>71.76</td>\n",
       "      <td>78</td>\n",
       "      <td>69</td>\n",
       "      <td>12.30</td>\n",
       "    </tr>\n",
       "    <tr>\n",
       "      <th>26</th>\n",
       "      <td>26</td>\n",
       "      <td>Taonan</td>\n",
       "      <td>CN</td>\n",
       "      <td>2020-06-26 04:53:08</td>\n",
       "      <td>45.33</td>\n",
       "      <td>122.78</td>\n",
       "      <td>72.77</td>\n",
       "      <td>57</td>\n",
       "      <td>91</td>\n",
       "      <td>11.21</td>\n",
       "    </tr>\n",
       "    <tr>\n",
       "      <th>29</th>\n",
       "      <td>29</td>\n",
       "      <td>Los Llanos De Aridane</td>\n",
       "      <td>ES</td>\n",
       "      <td>2020-06-26 04:43:26</td>\n",
       "      <td>28.66</td>\n",
       "      <td>-17.92</td>\n",
       "      <td>71.60</td>\n",
       "      <td>73</td>\n",
       "      <td>75</td>\n",
       "      <td>17.22</td>\n",
       "    </tr>\n",
       "    <tr>\n",
       "      <th>30</th>\n",
       "      <td>30</td>\n",
       "      <td>Jalpan</td>\n",
       "      <td>MX</td>\n",
       "      <td>2020-06-26 04:53:09</td>\n",
       "      <td>21.23</td>\n",
       "      <td>-99.48</td>\n",
       "      <td>71.78</td>\n",
       "      <td>82</td>\n",
       "      <td>100</td>\n",
       "      <td>1.74</td>\n",
       "    </tr>\n",
       "    <tr>\n",
       "      <th>31</th>\n",
       "      <td>31</td>\n",
       "      <td>Avarua</td>\n",
       "      <td>CK</td>\n",
       "      <td>2020-06-26 04:51:15</td>\n",
       "      <td>-21.21</td>\n",
       "      <td>-159.78</td>\n",
       "      <td>71.60</td>\n",
       "      <td>73</td>\n",
       "      <td>25</td>\n",
       "      <td>3.36</td>\n",
       "    </tr>\n",
       "    <tr>\n",
       "      <th>34</th>\n",
       "      <td>34</td>\n",
       "      <td>Sao Filipe</td>\n",
       "      <td>CV</td>\n",
       "      <td>2020-06-26 04:43:09</td>\n",
       "      <td>14.90</td>\n",
       "      <td>-24.50</td>\n",
       "      <td>73.67</td>\n",
       "      <td>80</td>\n",
       "      <td>12</td>\n",
       "      <td>9.55</td>\n",
       "    </tr>\n",
       "    <tr>\n",
       "      <th>41</th>\n",
       "      <td>41</td>\n",
       "      <td>Beloha</td>\n",
       "      <td>MG</td>\n",
       "      <td>2020-06-26 04:53:09</td>\n",
       "      <td>-25.17</td>\n",
       "      <td>45.05</td>\n",
       "      <td>67.26</td>\n",
       "      <td>77</td>\n",
       "      <td>48</td>\n",
       "      <td>11.79</td>\n",
       "    </tr>\n",
       "    <tr>\n",
       "      <th>42</th>\n",
       "      <td>42</td>\n",
       "      <td>Airai</td>\n",
       "      <td>TL</td>\n",
       "      <td>2020-06-26 04:43:11</td>\n",
       "      <td>-8.93</td>\n",
       "      <td>125.41</td>\n",
       "      <td>71.42</td>\n",
       "      <td>61</td>\n",
       "      <td>13</td>\n",
       "      <td>4.00</td>\n",
       "    </tr>\n",
       "    <tr>\n",
       "      <th>51</th>\n",
       "      <td>51</td>\n",
       "      <td>Zaymishche</td>\n",
       "      <td>RU</td>\n",
       "      <td>2020-06-26 04:53:10</td>\n",
       "      <td>52.73</td>\n",
       "      <td>32.23</td>\n",
       "      <td>68.94</td>\n",
       "      <td>77</td>\n",
       "      <td>0</td>\n",
       "      <td>5.46</td>\n",
       "    </tr>\n",
       "    <tr>\n",
       "      <th>58</th>\n",
       "      <td>58</td>\n",
       "      <td>Asau</td>\n",
       "      <td>RO</td>\n",
       "      <td>2020-06-26 04:43:16</td>\n",
       "      <td>46.43</td>\n",
       "      <td>26.40</td>\n",
       "      <td>66.00</td>\n",
       "      <td>81</td>\n",
       "      <td>16</td>\n",
       "      <td>2.66</td>\n",
       "    </tr>\n",
       "  </tbody>\n",
       "</table>\n",
       "</div>"
      ],
      "text/plain": [
       "    City_ID                   City Country                 Date    Lat  \\\n",
       "9         9        Arraial Do Cabo      BR  2020-06-26 04:39:40 -22.97   \n",
       "26       26                 Taonan      CN  2020-06-26 04:53:08  45.33   \n",
       "29       29  Los Llanos De Aridane      ES  2020-06-26 04:43:26  28.66   \n",
       "30       30                 Jalpan      MX  2020-06-26 04:53:09  21.23   \n",
       "31       31                 Avarua      CK  2020-06-26 04:51:15 -21.21   \n",
       "34       34             Sao Filipe      CV  2020-06-26 04:43:09  14.90   \n",
       "41       41                 Beloha      MG  2020-06-26 04:53:09 -25.17   \n",
       "42       42                  Airai      TL  2020-06-26 04:43:11  -8.93   \n",
       "51       51             Zaymishche      RU  2020-06-26 04:53:10  52.73   \n",
       "58       58                   Asau      RO  2020-06-26 04:43:16  46.43   \n",
       "\n",
       "       Lng  Max Temp  Humidity  Cloudiness  Wind Speed  \n",
       "9   -42.03     71.76        78          69       12.30  \n",
       "26  122.78     72.77        57          91       11.21  \n",
       "29  -17.92     71.60        73          75       17.22  \n",
       "30  -99.48     71.78        82         100        1.74  \n",
       "31 -159.78     71.60        73          25        3.36  \n",
       "34  -24.50     73.67        80          12        9.55  \n",
       "41   45.05     67.26        77          48       11.79  \n",
       "42  125.41     71.42        61          13        4.00  \n",
       "51   32.23     68.94        77           0        5.46  \n",
       "58   26.40     66.00        81          16        2.66  "
      ]
     },
     "execution_count": 50,
     "metadata": {},
     "output_type": "execute_result"
    }
   ],
   "source": [
    "# Filter the dataset to find the cities that fit the criteria.\n",
    "preferred_cities_df=city_data_df.loc[(city_data_df[\"Max Temp\"]<= max_temp) & ((city_data_df[\"Max Temp\"]>= min_temp))]\n",
    "preferred_cities_df.head(10)"
   ]
  },
  {
   "cell_type": "code",
   "execution_count": 51,
   "metadata": {},
   "outputs": [
    {
     "data": {
      "text/plain": [
       "City_ID       147\n",
       "City          147\n",
       "Country       147\n",
       "Date          147\n",
       "Lat           147\n",
       "Lng           147\n",
       "Max Temp      147\n",
       "Humidity      147\n",
       "Cloudiness    147\n",
       "Wind Speed    147\n",
       "dtype: int64"
      ]
     },
     "execution_count": 51,
     "metadata": {},
     "output_type": "execute_result"
    }
   ],
   "source": [
    "preferred_cities_df.count()"
   ]
  },
  {
   "cell_type": "code",
   "execution_count": 52,
   "metadata": {},
   "outputs": [
    {
     "data": {
      "text/html": [
       "<div>\n",
       "<style scoped>\n",
       "    .dataframe tbody tr th:only-of-type {\n",
       "        vertical-align: middle;\n",
       "    }\n",
       "\n",
       "    .dataframe tbody tr th {\n",
       "        vertical-align: top;\n",
       "    }\n",
       "\n",
       "    .dataframe thead th {\n",
       "        text-align: right;\n",
       "    }\n",
       "</style>\n",
       "<table border=\"1\" class=\"dataframe\">\n",
       "  <thead>\n",
       "    <tr style=\"text-align: right;\">\n",
       "      <th></th>\n",
       "      <th>City</th>\n",
       "      <th>Country</th>\n",
       "      <th>Max Temp</th>\n",
       "      <th>Lat</th>\n",
       "      <th>Lng</th>\n",
       "      <th>Hotel Name</th>\n",
       "    </tr>\n",
       "  </thead>\n",
       "  <tbody>\n",
       "    <tr>\n",
       "      <th>9</th>\n",
       "      <td>Arraial Do Cabo</td>\n",
       "      <td>BR</td>\n",
       "      <td>71.76</td>\n",
       "      <td>-22.97</td>\n",
       "      <td>-42.03</td>\n",
       "      <td></td>\n",
       "    </tr>\n",
       "    <tr>\n",
       "      <th>26</th>\n",
       "      <td>Taonan</td>\n",
       "      <td>CN</td>\n",
       "      <td>72.77</td>\n",
       "      <td>45.33</td>\n",
       "      <td>122.78</td>\n",
       "      <td></td>\n",
       "    </tr>\n",
       "    <tr>\n",
       "      <th>29</th>\n",
       "      <td>Los Llanos De Aridane</td>\n",
       "      <td>ES</td>\n",
       "      <td>71.60</td>\n",
       "      <td>28.66</td>\n",
       "      <td>-17.92</td>\n",
       "      <td></td>\n",
       "    </tr>\n",
       "    <tr>\n",
       "      <th>30</th>\n",
       "      <td>Jalpan</td>\n",
       "      <td>MX</td>\n",
       "      <td>71.78</td>\n",
       "      <td>21.23</td>\n",
       "      <td>-99.48</td>\n",
       "      <td></td>\n",
       "    </tr>\n",
       "    <tr>\n",
       "      <th>31</th>\n",
       "      <td>Avarua</td>\n",
       "      <td>CK</td>\n",
       "      <td>71.60</td>\n",
       "      <td>-21.21</td>\n",
       "      <td>-159.78</td>\n",
       "      <td></td>\n",
       "    </tr>\n",
       "    <tr>\n",
       "      <th>34</th>\n",
       "      <td>Sao Filipe</td>\n",
       "      <td>CV</td>\n",
       "      <td>73.67</td>\n",
       "      <td>14.90</td>\n",
       "      <td>-24.50</td>\n",
       "      <td></td>\n",
       "    </tr>\n",
       "    <tr>\n",
       "      <th>41</th>\n",
       "      <td>Beloha</td>\n",
       "      <td>MG</td>\n",
       "      <td>67.26</td>\n",
       "      <td>-25.17</td>\n",
       "      <td>45.05</td>\n",
       "      <td></td>\n",
       "    </tr>\n",
       "    <tr>\n",
       "      <th>42</th>\n",
       "      <td>Airai</td>\n",
       "      <td>TL</td>\n",
       "      <td>71.42</td>\n",
       "      <td>-8.93</td>\n",
       "      <td>125.41</td>\n",
       "      <td></td>\n",
       "    </tr>\n",
       "    <tr>\n",
       "      <th>51</th>\n",
       "      <td>Zaymishche</td>\n",
       "      <td>RU</td>\n",
       "      <td>68.94</td>\n",
       "      <td>52.73</td>\n",
       "      <td>32.23</td>\n",
       "      <td></td>\n",
       "    </tr>\n",
       "    <tr>\n",
       "      <th>58</th>\n",
       "      <td>Asau</td>\n",
       "      <td>RO</td>\n",
       "      <td>66.00</td>\n",
       "      <td>46.43</td>\n",
       "      <td>26.40</td>\n",
       "      <td></td>\n",
       "    </tr>\n",
       "  </tbody>\n",
       "</table>\n",
       "</div>"
      ],
      "text/plain": [
       "                     City Country  Max Temp    Lat     Lng Hotel Name\n",
       "9         Arraial Do Cabo      BR     71.76 -22.97  -42.03           \n",
       "26                 Taonan      CN     72.77  45.33  122.78           \n",
       "29  Los Llanos De Aridane      ES     71.60  28.66  -17.92           \n",
       "30                 Jalpan      MX     71.78  21.23  -99.48           \n",
       "31                 Avarua      CK     71.60 -21.21 -159.78           \n",
       "34             Sao Filipe      CV     73.67  14.90  -24.50           \n",
       "41                 Beloha      MG     67.26 -25.17   45.05           \n",
       "42                  Airai      TL     71.42  -8.93  125.41           \n",
       "51             Zaymishche      RU     68.94  52.73   32.23           \n",
       "58                   Asau      RO     66.00  46.43   26.40           "
      ]
     },
     "execution_count": 52,
     "metadata": {},
     "output_type": "execute_result"
    }
   ],
   "source": [
    "# Create DataFrame called hotel_df to store hotel names along with city, country, max temp, and coordinates.\n",
    "hotel_df = preferred_cities_df[[\"City\", \"Country\", \"Max Temp\", \"Lat\", \"Lng\"]].copy()\n",
    "hotel_df[\"Hotel Name\"] = \"\"\n",
    "hotel_df.head(10)"
   ]
  },
  {
   "cell_type": "code",
   "execution_count": 53,
   "metadata": {},
   "outputs": [],
   "source": [
    "# Set the parameters to search for a hotel in Paris.\n",
    "params = {\n",
    "    \"radius\": 5000,\n",
    "    \"types\": \"lodging\",\n",
    "    \"key\": gkey,\n",
    "    \"location\": [\"Lat\", \"Lng\"]}\n",
    "# Use base URL to search for hotels in Paris.\n",
    "base_url = \"https://maps.googleapis.com/maps/api/place/nearbysearch/json\"\n",
    "# Make request and get the JSON data from the search.\n",
    "hotels = requests.get(base_url, params=params).json()"
   ]
  },
  {
   "cell_type": "code",
   "execution_count": 54,
   "metadata": {},
   "outputs": [
    {
     "name": "stdout",
     "output_type": "stream",
     "text": [
      "Hotel not found... skipping.\n",
      "Hotel not found... skipping.\n",
      "Hotel not found... skipping.\n",
      "Hotel not found... skipping.\n",
      "Hotel not found... skipping.\n",
      "Hotel not found... skipping.\n",
      "Hotel not found... skipping.\n",
      "Hotel not found... skipping.\n",
      "Hotel not found... skipping.\n",
      "Hotel not found... skipping.\n",
      "Hotel not found... skipping.\n",
      "Hotel not found... skipping.\n",
      "Hotel not found... skipping.\n",
      "Hotel not found... skipping.\n",
      "Hotel not found... skipping.\n"
     ]
    }
   ],
   "source": [
    "# Iterate through the DataFrame.\n",
    "for index, row in hotel_df.iterrows():\n",
    "    # Get the latitude and longitude.\n",
    "    lat = row[\"Lat\"]\n",
    "    lng = row[\"Lng\"]\n",
    "\n",
    "    # Add the latitude and longitude to location key for the params dictionary.\n",
    "    params[\"location\"] = f\"{lat},{lng}\"\n",
    "\n",
    "    # Use the search term: \"lodging\" and our latitude and longitude.\n",
    "    base_url = \"https://maps.googleapis.com/maps/api/place/nearbysearch/json\"\n",
    "    # Make request and get the JSON data from the search.\n",
    "    hotels = requests.get(base_url, params=params).json()\n",
    "    # Grab the first hotel from the results and store the name.\n",
    "    try:\n",
    "        hotel_df.loc[index, \"Hotel Name\"] = hotels[\"results\"][0][\"name\"]\n",
    "    except (IndexError):\n",
    "        print(\"Hotel not found... skipping.\")"
   ]
  },
  {
   "cell_type": "code",
   "execution_count": 55,
   "metadata": {},
   "outputs": [
    {
     "data": {
      "text/html": [
       "<div>\n",
       "<style scoped>\n",
       "    .dataframe tbody tr th:only-of-type {\n",
       "        vertical-align: middle;\n",
       "    }\n",
       "\n",
       "    .dataframe tbody tr th {\n",
       "        vertical-align: top;\n",
       "    }\n",
       "\n",
       "    .dataframe thead th {\n",
       "        text-align: right;\n",
       "    }\n",
       "</style>\n",
       "<table border=\"1\" class=\"dataframe\">\n",
       "  <thead>\n",
       "    <tr style=\"text-align: right;\">\n",
       "      <th></th>\n",
       "      <th>City</th>\n",
       "      <th>Country</th>\n",
       "      <th>Max Temp</th>\n",
       "      <th>Lat</th>\n",
       "      <th>Lng</th>\n",
       "      <th>Hotel Name</th>\n",
       "    </tr>\n",
       "  </thead>\n",
       "  <tbody>\n",
       "    <tr>\n",
       "      <th>9</th>\n",
       "      <td>Arraial Do Cabo</td>\n",
       "      <td>BR</td>\n",
       "      <td>71.76</td>\n",
       "      <td>-22.97</td>\n",
       "      <td>-42.03</td>\n",
       "      <td>Pousada Porto Praia</td>\n",
       "    </tr>\n",
       "    <tr>\n",
       "      <th>26</th>\n",
       "      <td>Taonan</td>\n",
       "      <td>CN</td>\n",
       "      <td>72.77</td>\n",
       "      <td>45.33</td>\n",
       "      <td>122.78</td>\n",
       "      <td>Makro Hotel</td>\n",
       "    </tr>\n",
       "    <tr>\n",
       "      <th>29</th>\n",
       "      <td>Los Llanos De Aridane</td>\n",
       "      <td>ES</td>\n",
       "      <td>71.60</td>\n",
       "      <td>28.66</td>\n",
       "      <td>-17.92</td>\n",
       "      <td>Valle Aridane</td>\n",
       "    </tr>\n",
       "    <tr>\n",
       "      <th>30</th>\n",
       "      <td>Jalpan</td>\n",
       "      <td>MX</td>\n",
       "      <td>71.78</td>\n",
       "      <td>21.23</td>\n",
       "      <td>-99.48</td>\n",
       "      <td>Hotel Mision Jalpan</td>\n",
       "    </tr>\n",
       "    <tr>\n",
       "      <th>31</th>\n",
       "      <td>Avarua</td>\n",
       "      <td>CK</td>\n",
       "      <td>71.60</td>\n",
       "      <td>-21.21</td>\n",
       "      <td>-159.78</td>\n",
       "      <td>Paradise Inn</td>\n",
       "    </tr>\n",
       "    <tr>\n",
       "      <th>34</th>\n",
       "      <td>Sao Filipe</td>\n",
       "      <td>CV</td>\n",
       "      <td>73.67</td>\n",
       "      <td>14.90</td>\n",
       "      <td>-24.50</td>\n",
       "      <td>Tortuga B&amp;B</td>\n",
       "    </tr>\n",
       "    <tr>\n",
       "      <th>41</th>\n",
       "      <td>Beloha</td>\n",
       "      <td>MG</td>\n",
       "      <td>67.26</td>\n",
       "      <td>-25.17</td>\n",
       "      <td>45.05</td>\n",
       "      <td></td>\n",
       "    </tr>\n",
       "    <tr>\n",
       "      <th>42</th>\n",
       "      <td>Airai</td>\n",
       "      <td>TL</td>\n",
       "      <td>71.42</td>\n",
       "      <td>-8.93</td>\n",
       "      <td>125.41</td>\n",
       "      <td>Juvinal Martin</td>\n",
       "    </tr>\n",
       "    <tr>\n",
       "      <th>51</th>\n",
       "      <td>Zaymishche</td>\n",
       "      <td>RU</td>\n",
       "      <td>68.94</td>\n",
       "      <td>52.73</td>\n",
       "      <td>32.23</td>\n",
       "      <td>Koltso Hotel</td>\n",
       "    </tr>\n",
       "    <tr>\n",
       "      <th>58</th>\n",
       "      <td>Asau</td>\n",
       "      <td>RO</td>\n",
       "      <td>66.00</td>\n",
       "      <td>46.43</td>\n",
       "      <td>26.40</td>\n",
       "      <td>Casa Mika Ciobanus</td>\n",
       "    </tr>\n",
       "  </tbody>\n",
       "</table>\n",
       "</div>"
      ],
      "text/plain": [
       "                     City Country  Max Temp    Lat     Lng  \\\n",
       "9         Arraial Do Cabo      BR     71.76 -22.97  -42.03   \n",
       "26                 Taonan      CN     72.77  45.33  122.78   \n",
       "29  Los Llanos De Aridane      ES     71.60  28.66  -17.92   \n",
       "30                 Jalpan      MX     71.78  21.23  -99.48   \n",
       "31                 Avarua      CK     71.60 -21.21 -159.78   \n",
       "34             Sao Filipe      CV     73.67  14.90  -24.50   \n",
       "41                 Beloha      MG     67.26 -25.17   45.05   \n",
       "42                  Airai      TL     71.42  -8.93  125.41   \n",
       "51             Zaymishche      RU     68.94  52.73   32.23   \n",
       "58                   Asau      RO     66.00  46.43   26.40   \n",
       "\n",
       "             Hotel Name  \n",
       "9   Pousada Porto Praia  \n",
       "26          Makro Hotel  \n",
       "29        Valle Aridane  \n",
       "30  Hotel Mision Jalpan  \n",
       "31         Paradise Inn  \n",
       "34          Tortuga B&B  \n",
       "41                       \n",
       "42       Juvinal Martin  \n",
       "51         Koltso Hotel  \n",
       "58   Casa Mika Ciobanus  "
      ]
     },
     "execution_count": 55,
     "metadata": {},
     "output_type": "execute_result"
    }
   ],
   "source": [
    "hotel_df.head(10)"
   ]
  },
  {
   "cell_type": "code",
   "execution_count": 56,
   "metadata": {},
   "outputs": [],
   "source": [
    "# Add a pop-up marker for each city that displays the hotel name, city name, country, and maximum temperature.\n",
    "info_box_template = \"\"\"\n",
    "<dl>\n",
    "<dt>Hotel Name</dt><dd>{Hotel Name}</dd>\n",
    "<dt>City</dt><dd>{City}</dd>\n",
    "<dt>Country</dt><dd>{Country}</dd>\n",
    "<dt>Max Temp</dt><dd>{Max Temp} °F</dd>\n",
    "</dl>\n",
    "\"\"\""
   ]
  },
  {
   "cell_type": "code",
   "execution_count": 57,
   "metadata": {},
   "outputs": [],
   "source": [
    "# Store the DataFrame Row.\n",
    "hotel_info = [info_box_template.format(**row) for index, row in hotel_df.iterrows()]"
   ]
  },
  {
   "cell_type": "code",
   "execution_count": 58,
   "metadata": {},
   "outputs": [
    {
     "data": {
      "application/vnd.jupyter.widget-view+json": {
       "model_id": "7ff9241e5ef248ec8086e80d132a3fd9",
       "version_major": 2,
       "version_minor": 0
      },
      "text/plain": [
       "Figure(layout=FigureLayout(height='420px'))"
      ]
     },
     "metadata": {},
     "output_type": "display_data"
    }
   ],
   "source": [
    "# Add a heatmap of temperature for the vacation spots and a pop-up marker for each city.\n",
    "locations = hotel_df[[\"Lat\", \"Lng\"]]\n",
    "max_temp = hotel_df[\"Max Temp\"]\n",
    "fig = gmaps.figure(center=(30.0, 31.0), zoom_level=1.5)\n",
    "heat_layer = gmaps.heatmap_layer(locations, weights=max_temp,dissipating=False,\n",
    "             max_intensity=300, point_radius=4)\n",
    "marker_layer = gmaps.marker_layer(locations, info_box_content=hotel_info)\n",
    "fig.add_layer(heat_layer)\n",
    "fig.add_layer(marker_layer)\n",
    "\n",
    "# Call the figure to plot the data.\n",
    "fig"
   ]
  },
  {
   "cell_type": "code",
   "execution_count": null,
   "metadata": {},
   "outputs": [],
   "source": []
  }
 ],
 "metadata": {
  "kernelspec": {
   "display_name": "Python 3",
   "language": "python",
   "name": "python3"
  },
  "language_info": {
   "codemirror_mode": {
    "name": "ipython",
    "version": 3
   },
   "file_extension": ".py",
   "mimetype": "text/x-python",
   "name": "python",
   "nbconvert_exporter": "python",
   "pygments_lexer": "ipython3",
   "version": "3.7.7"
  }
 },
 "nbformat": 4,
 "nbformat_minor": 4
}
